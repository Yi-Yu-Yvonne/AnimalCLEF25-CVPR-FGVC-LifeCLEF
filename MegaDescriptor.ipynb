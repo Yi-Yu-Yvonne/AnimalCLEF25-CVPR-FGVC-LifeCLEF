{
  "cells": [
    {
      "cell_type": "markdown",
      "metadata": {
        "id": "0-OjQAoFj3F7"
      },
      "source": [
        "# AnimalCLEF 2025: ResNet50 and DINO-v2 Implementation (Improved)\n",
        "\n",
        "This notebook implements both ResNet50 and DINO-v2 models for the AnimalCLEF 2025 competition, which focuses on individual animal identification for three species:\n",
        "- 🐢 Loggerhead sea turtles (Zakynthos, Greece)\n",
        "- 🦎 Salamanders (Czech Republic)\n",
        "- 🐆 Eurasian lynxes (Czech Republic)\n",
        "\n",
        "The goal is to determine whether an animal in an image is new (not present in the training dataset) or known (in which case, its identity must be provided).\n",
        "\n",
        "**Improvements in this version:**\n",
        "- Fixed submission file format to ensure proper prediction values\n",
        "- Added ensemble method combining ResNet50 and DINO-v2 predictions\n",
        "- Optimized similarity threshold for better new/known individual classification"
      ]
    },
    {
      "cell_type": "markdown",
      "metadata": {
        "id": "84dvZan6j3F8"
      },
      "source": [
        "## 1. Environment Setup and Dependencies Installation"
      ]
    },
    {
      "cell_type": "code",
      "execution_count": 1,
      "metadata": {
        "colab": {
          "base_uri": "https://localhost:8080/"
        },
        "collapsed": true,
        "id": "n7N8Kz4v6cyl",
        "outputId": "3bd9afc3-4801-48bd-93af-b3ad60c8b1c6"
      },
      "outputs": [
        {
          "name": "stdout",
          "output_type": "stream",
          "text": [
            "Requirement already satisfied: torch in /home/intern/Yu/animalvenv/lib/python3.11/site-packages (2.6.0)\n",
            "Requirement already satisfied: torchvision in /home/intern/Yu/animalvenv/lib/python3.11/site-packages (0.21.0)\n",
            "Collecting torchaudio\n",
            "  Downloading torchaudio-2.7.0-cp311-cp311-manylinux_2_28_x86_64.whl.metadata (6.6 kB)\n",
            "Requirement already satisfied: timm in /home/intern/Yu/animalvenv/lib/python3.11/site-packages (1.0.15)\n",
            "Requirement already satisfied: numpy in /home/intern/Yu/animalvenv/lib/python3.11/site-packages (2.2.5)\n",
            "Requirement already satisfied: scikit-learn in /home/intern/Yu/animalvenv/lib/python3.11/site-packages (1.6.1)\n",
            "Requirement already satisfied: matplotlib in /home/intern/Yu/animalvenv/lib/python3.11/site-packages (3.10.1)\n",
            "Requirement already satisfied: pandas in /home/intern/Yu/animalvenv/lib/python3.11/site-packages (2.2.3)\n",
            "Requirement already satisfied: wildlife-datasets in /home/intern/Yu/animalvenv/lib/python3.11/site-packages (1.0.6)\n",
            "Requirement already satisfied: tqdm in /home/intern/Yu/animalvenv/lib/python3.11/site-packages (4.67.1)\n",
            "Requirement already satisfied: filelock in /home/intern/Yu/animalvenv/lib/python3.11/site-packages (from torch) (3.18.0)\n",
            "Requirement already satisfied: typing-extensions>=4.10.0 in /home/intern/Yu/animalvenv/lib/python3.11/site-packages (from torch) (4.13.2)\n",
            "Requirement already satisfied: networkx in /home/intern/Yu/animalvenv/lib/python3.11/site-packages (from torch) (3.4.2)\n",
            "Requirement already satisfied: jinja2 in /home/intern/Yu/animalvenv/lib/python3.11/site-packages (from torch) (3.1.6)\n",
            "Requirement already satisfied: fsspec in /home/intern/Yu/animalvenv/lib/python3.11/site-packages (from torch) (2024.12.0)\n",
            "Requirement already satisfied: nvidia-cuda-nvrtc-cu12==12.4.127 in /home/intern/Yu/animalvenv/lib/python3.11/site-packages (from torch) (12.4.127)\n",
            "Requirement already satisfied: nvidia-cuda-runtime-cu12==12.4.127 in /home/intern/Yu/animalvenv/lib/python3.11/site-packages (from torch) (12.4.127)\n",
            "Requirement already satisfied: nvidia-cuda-cupti-cu12==12.4.127 in /home/intern/Yu/animalvenv/lib/python3.11/site-packages (from torch) (12.4.127)\n",
            "Requirement already satisfied: nvidia-cudnn-cu12==9.1.0.70 in /home/intern/Yu/animalvenv/lib/python3.11/site-packages (from torch) (9.1.0.70)\n",
            "Requirement already satisfied: nvidia-cublas-cu12==12.4.5.8 in /home/intern/Yu/animalvenv/lib/python3.11/site-packages (from torch) (12.4.5.8)\n",
            "Requirement already satisfied: nvidia-cufft-cu12==11.2.1.3 in /home/intern/Yu/animalvenv/lib/python3.11/site-packages (from torch) (11.2.1.3)\n",
            "Requirement already satisfied: nvidia-curand-cu12==10.3.5.147 in /home/intern/Yu/animalvenv/lib/python3.11/site-packages (from torch) (10.3.5.147)\n",
            "Requirement already satisfied: nvidia-cusolver-cu12==11.6.1.9 in /home/intern/Yu/animalvenv/lib/python3.11/site-packages (from torch) (11.6.1.9)\n",
            "Requirement already satisfied: nvidia-cusparse-cu12==12.3.1.170 in /home/intern/Yu/animalvenv/lib/python3.11/site-packages (from torch) (12.3.1.170)\n",
            "Requirement already satisfied: nvidia-cusparselt-cu12==0.6.2 in /home/intern/Yu/animalvenv/lib/python3.11/site-packages (from torch) (0.6.2)\n",
            "Requirement already satisfied: nvidia-nccl-cu12==2.21.5 in /home/intern/Yu/animalvenv/lib/python3.11/site-packages (from torch) (2.21.5)\n",
            "Requirement already satisfied: nvidia-nvtx-cu12==12.4.127 in /home/intern/Yu/animalvenv/lib/python3.11/site-packages (from torch) (12.4.127)\n",
            "Requirement already satisfied: nvidia-nvjitlink-cu12==12.4.127 in /home/intern/Yu/animalvenv/lib/python3.11/site-packages (from torch) (12.4.127)\n",
            "Requirement already satisfied: triton==3.2.0 in /home/intern/Yu/animalvenv/lib/python3.11/site-packages (from torch) (3.2.0)\n",
            "Requirement already satisfied: sympy==1.13.1 in /home/intern/Yu/animalvenv/lib/python3.11/site-packages (from torch) (1.13.1)\n",
            "Requirement already satisfied: mpmath<1.4,>=1.1.0 in /home/intern/Yu/animalvenv/lib/python3.11/site-packages (from sympy==1.13.1->torch) (1.3.0)\n",
            "Requirement already satisfied: pillow!=8.3.*,>=5.3.0 in /home/intern/Yu/animalvenv/lib/python3.11/site-packages (from torchvision) (11.2.1)\n",
            "INFO: pip is looking at multiple versions of torchaudio to determine which version is compatible with other requirements. This could take a while.\n",
            "  Downloading torchaudio-2.6.0-cp311-cp311-manylinux1_x86_64.whl.metadata (6.6 kB)\n",
            "Requirement already satisfied: pyyaml in /home/intern/Yu/animalvenv/lib/python3.11/site-packages (from timm) (6.0.2)\n",
            "Requirement already satisfied: huggingface_hub in /home/intern/Yu/animalvenv/lib/python3.11/site-packages (from timm) (0.30.2)\n",
            "Requirement already satisfied: safetensors in /home/intern/Yu/animalvenv/lib/python3.11/site-packages (from timm) (0.5.3)\n",
            "Requirement already satisfied: scipy>=1.6.0 in /home/intern/Yu/animalvenv/lib/python3.11/site-packages (from scikit-learn) (1.15.2)\n",
            "Requirement already satisfied: joblib>=1.2.0 in /home/intern/Yu/animalvenv/lib/python3.11/site-packages (from scikit-learn) (1.4.2)\n",
            "Requirement already satisfied: threadpoolctl>=3.1.0 in /home/intern/Yu/animalvenv/lib/python3.11/site-packages (from scikit-learn) (3.6.0)\n",
            "Requirement already satisfied: contourpy>=1.0.1 in /home/intern/Yu/animalvenv/lib/python3.11/site-packages (from matplotlib) (1.3.2)\n",
            "Requirement already satisfied: cycler>=0.10 in /home/intern/Yu/animalvenv/lib/python3.11/site-packages (from matplotlib) (0.12.1)\n",
            "Requirement already satisfied: fonttools>=4.22.0 in /home/intern/Yu/animalvenv/lib/python3.11/site-packages (from matplotlib) (4.57.0)\n",
            "Requirement already satisfied: kiwisolver>=1.3.1 in /home/intern/Yu/animalvenv/lib/python3.11/site-packages (from matplotlib) (1.4.8)\n",
            "Requirement already satisfied: packaging>=20.0 in /home/intern/Yu/animalvenv/lib/python3.11/site-packages (from matplotlib) (25.0)\n",
            "Requirement already satisfied: pyparsing>=2.3.1 in /home/intern/Yu/animalvenv/lib/python3.11/site-packages (from matplotlib) (3.2.3)\n",
            "Requirement already satisfied: python-dateutil>=2.7 in /home/intern/Yu/animalvenv/lib/python3.11/site-packages (from matplotlib) (2.9.0.post0)\n",
            "Requirement already satisfied: pytz>=2020.1 in /home/intern/Yu/animalvenv/lib/python3.11/site-packages (from pandas) (2025.2)\n",
            "Requirement already satisfied: tzdata>=2022.7 in /home/intern/Yu/animalvenv/lib/python3.11/site-packages (from pandas) (2025.2)\n",
            "Requirement already satisfied: opencv-python>=4.5.5.62 in /home/intern/Yu/animalvenv/lib/python3.11/site-packages (from wildlife-datasets) (4.11.0.86)\n",
            "Requirement already satisfied: pycocotools>=2.0.1 in /home/intern/Yu/animalvenv/lib/python3.11/site-packages (from wildlife-datasets) (2.0.8)\n",
            "Requirement already satisfied: datasets in /home/intern/Yu/animalvenv/lib/python3.11/site-packages (from wildlife-datasets) (3.5.0)\n",
            "Requirement already satisfied: gdown in /home/intern/Yu/animalvenv/lib/python3.11/site-packages (from wildlife-datasets) (5.2.0)\n",
            "Requirement already satisfied: kaggle in /home/intern/Yu/animalvenv/lib/python3.11/site-packages (from wildlife-datasets) (1.7.4.2)\n",
            "Requirement already satisfied: six>=1.5 in /home/intern/Yu/animalvenv/lib/python3.11/site-packages (from python-dateutil>=2.7->matplotlib) (1.17.0)\n",
            "Requirement already satisfied: pyarrow>=15.0.0 in /home/intern/Yu/animalvenv/lib/python3.11/site-packages (from datasets->wildlife-datasets) (19.0.1)\n",
            "Requirement already satisfied: dill<0.3.9,>=0.3.0 in /home/intern/Yu/animalvenv/lib/python3.11/site-packages (from datasets->wildlife-datasets) (0.3.8)\n",
            "Requirement already satisfied: requests>=2.32.2 in /home/intern/Yu/animalvenv/lib/python3.11/site-packages (from datasets->wildlife-datasets) (2.32.3)\n",
            "Requirement already satisfied: xxhash in /home/intern/Yu/animalvenv/lib/python3.11/site-packages (from datasets->wildlife-datasets) (3.5.0)\n",
            "Requirement already satisfied: multiprocess<0.70.17 in /home/intern/Yu/animalvenv/lib/python3.11/site-packages (from datasets->wildlife-datasets) (0.70.16)\n",
            "Requirement already satisfied: aiohttp in /home/intern/Yu/animalvenv/lib/python3.11/site-packages (from datasets->wildlife-datasets) (3.11.18)\n",
            "Requirement already satisfied: beautifulsoup4 in /home/intern/Yu/animalvenv/lib/python3.11/site-packages (from gdown->wildlife-datasets) (4.13.4)\n",
            "Requirement already satisfied: MarkupSafe>=2.0 in /home/intern/Yu/animalvenv/lib/python3.11/site-packages (from jinja2->torch) (3.0.2)\n",
            "Requirement already satisfied: bleach in /home/intern/Yu/animalvenv/lib/python3.11/site-packages (from kaggle->wildlife-datasets) (6.2.0)\n",
            "Requirement already satisfied: certifi>=14.05.14 in /home/intern/Yu/animalvenv/lib/python3.11/site-packages (from kaggle->wildlife-datasets) (2025.1.31)\n",
            "Requirement already satisfied: charset-normalizer in /home/intern/Yu/animalvenv/lib/python3.11/site-packages (from kaggle->wildlife-datasets) (3.4.1)\n",
            "Requirement already satisfied: idna in /home/intern/Yu/animalvenv/lib/python3.11/site-packages (from kaggle->wildlife-datasets) (3.10)\n",
            "Requirement already satisfied: protobuf in /home/intern/Yu/animalvenv/lib/python3.11/site-packages (from kaggle->wildlife-datasets) (6.30.2)\n",
            "Requirement already satisfied: python-slugify in /home/intern/Yu/animalvenv/lib/python3.11/site-packages (from kaggle->wildlife-datasets) (8.0.4)\n",
            "Requirement already satisfied: setuptools>=21.0.0 in /home/intern/Yu/animalvenv/lib/python3.11/site-packages (from kaggle->wildlife-datasets) (65.5.0)\n",
            "Requirement already satisfied: text-unidecode in /home/intern/Yu/animalvenv/lib/python3.11/site-packages (from kaggle->wildlife-datasets) (1.3)\n",
            "Requirement already satisfied: urllib3>=1.15.1 in /home/intern/Yu/animalvenv/lib/python3.11/site-packages (from kaggle->wildlife-datasets) (2.4.0)\n",
            "Requirement already satisfied: webencodings in /home/intern/Yu/animalvenv/lib/python3.11/site-packages (from kaggle->wildlife-datasets) (0.5.1)\n",
            "Requirement already satisfied: aiohappyeyeballs>=2.3.0 in /home/intern/Yu/animalvenv/lib/python3.11/site-packages (from aiohttp->datasets->wildlife-datasets) (2.6.1)\n",
            "Requirement already satisfied: aiosignal>=1.1.2 in /home/intern/Yu/animalvenv/lib/python3.11/site-packages (from aiohttp->datasets->wildlife-datasets) (1.3.2)\n",
            "Requirement already satisfied: attrs>=17.3.0 in /home/intern/Yu/animalvenv/lib/python3.11/site-packages (from aiohttp->datasets->wildlife-datasets) (25.3.0)\n",
            "Requirement already satisfied: frozenlist>=1.1.1 in /home/intern/Yu/animalvenv/lib/python3.11/site-packages (from aiohttp->datasets->wildlife-datasets) (1.6.0)\n",
            "Requirement already satisfied: multidict<7.0,>=4.5 in /home/intern/Yu/animalvenv/lib/python3.11/site-packages (from aiohttp->datasets->wildlife-datasets) (6.4.3)\n",
            "Requirement already satisfied: propcache>=0.2.0 in /home/intern/Yu/animalvenv/lib/python3.11/site-packages (from aiohttp->datasets->wildlife-datasets) (0.3.1)\n",
            "Requirement already satisfied: yarl<2.0,>=1.17.0 in /home/intern/Yu/animalvenv/lib/python3.11/site-packages (from aiohttp->datasets->wildlife-datasets) (1.20.0)\n",
            "Requirement already satisfied: soupsieve>1.2 in /home/intern/Yu/animalvenv/lib/python3.11/site-packages (from beautifulsoup4->gdown->wildlife-datasets) (2.7)\n",
            "Requirement already satisfied: PySocks!=1.5.7,>=1.5.6 in /home/intern/Yu/animalvenv/lib/python3.11/site-packages (from requests[socks]->gdown->wildlife-datasets) (1.7.1)\n",
            "Downloading torchaudio-2.6.0-cp311-cp311-manylinux1_x86_64.whl (3.4 MB)\n",
            "\u001b[2K   \u001b[90m━━━━━━━━━━━━━━━━━━━━━━━━━━━━━━━━━━━━━━━━\u001b[0m \u001b[32m3.4/3.4 MB\u001b[0m \u001b[31m6.7 MB/s\u001b[0m eta \u001b[36m0:00:00\u001b[0ma \u001b[36m0:00:01\u001b[0m\n",
            "\u001b[?25hInstalling collected packages: torchaudio\n",
            "Successfully installed torchaudio-2.6.0\n"
          ]
        }
      ],
      "source": [
        "# Install required packages\n",
        "!pip install torch torchvision torchaudio timm numpy scikit-learn matplotlib pandas wildlife-datasets tqdm"
      ]
    },
    {
      "cell_type": "code",
      "execution_count": 2,
      "metadata": {
        "id": "L5tcfQATo82o"
      },
      "outputs": [],
      "source": [
        "import os\n",
        "import sys\n",
        "import numpy as np\n",
        "import pandas as pd\n",
        "import matplotlib.pyplot as plt\n",
        "import torch\n",
        "import torch.nn as nn\n",
        "import torch.nn.functional as F\n",
        "from torchvision import transforms, models\n",
        "from PIL import Image\n",
        "from tqdm.notebook import tqdm\n",
        "from sklearn.metrics import accuracy_score, precision_score, recall_score, f1_score\n",
        "from sklearn.neighbors import NearestNeighbors\n",
        "from transformers import AutoModel\n",
        "import timm\n",
        "from sklearn.model_selection import train_test_split"
      ]
    },
    {
      "cell_type": "code",
      "execution_count": 3,
      "metadata": {
        "id": "IWSA5sVW7dyr"
      },
      "outputs": [],
      "source": [
        "    # Upload kaggle.json if needed\n",
        "    # from google.colab import files\n",
        "    # try:\n",
        "    #     files.upload()  # Upload kaggle.json\n",
        "    #     !mkdir -p ~/.kaggle\n",
        "    #     !cp kaggle.json ~/.kaggle/\n",
        "    #     !chmod 600 ~/.kaggle/kaggle.json\n",
        "    # except:\n",
        "    #     print(\"Please upload your kaggle.json file to access competition data\")\n",
        "\n",
        "    # Download competition data\n",
        "    # !kaggle competitions download -c animal-clef-2025\n",
        "    # !unzip -q animal-clef-2025.zip -d animal-clef-2025\n"
      ]
    },
    {
      "cell_type": "code",
      "execution_count": 4,
      "metadata": {
        "colab": {
          "base_uri": "https://localhost:8080/"
        },
        "id": "3Ag8pVR-7Msy",
        "outputId": "8e5aef85-f1cc-45fb-ec83-1223c63a773a"
      },
      "outputs": [
        {
          "name": "stdout",
          "output_type": "stream",
          "text": [
            "Running in Google Colab\n",
            "Mounted at /content/drive\n",
            "  Installing build dependencies ... \u001b[?25l\u001b[?25hdone\n",
            "  Getting requirements to build wheel ... \u001b[?25l\u001b[?25hdone\n",
            "  Preparing metadata (pyproject.toml) ... \u001b[?25l\u001b[?25hdone\n",
            "  Installing build dependencies ... \u001b[?25l\u001b[?25hdone\n",
            "  Getting requirements to build wheel ... \u001b[?25l\u001b[?25hdone\n",
            "  Preparing metadata (pyproject.toml) ... \u001b[?25l\u001b[?25hdone\n",
            "  Installing build dependencies ... \u001b[?25l\u001b[?25hdone\n",
            "  Getting requirements to build wheel ... \u001b[?25l\u001b[?25hdone\n",
            "  Preparing metadata (pyproject.toml) ... \u001b[?25l\u001b[?25hdone\n",
            "  Installing build dependencies ... \u001b[?25l\u001b[?25hdone\n",
            "  Getting requirements to build wheel ... \u001b[?25l\u001b[?25hdone\n",
            "  Preparing metadata (pyproject.toml) ... \u001b[?25l\u001b[?25hdone\n",
            "\u001b[2K     \u001b[90m━━━━━━━━━━━━━━━━━━━━━━━━━━━━━━━━━━━━━━━\u001b[0m \u001b[32m117.0/117.0 kB\u001b[0m \u001b[31m9.7 MB/s\u001b[0m eta \u001b[36m0:00:00\u001b[0m\n",
            "\u001b[?25h  Preparing metadata (setup.py) ... \u001b[?25l\u001b[?25hdone\n",
            "\u001b[2K   \u001b[90m━━━━━━━━━━━━━━━━━━━━━━━━━━━━━━━━━━━━━━━━\u001b[0m \u001b[32m1.1/1.1 MB\u001b[0m \u001b[31m48.9 MB/s\u001b[0m eta \u001b[36m0:00:00\u001b[0m\n",
            "\u001b[2K   \u001b[90m━━━━━━━━━━━━━━━━━━━━━━━━━━━━━━━━━━━━━━━━\u001b[0m \u001b[32m125.9/125.9 kB\u001b[0m \u001b[31m15.5 MB/s\u001b[0m eta \u001b[36m0:00:00\u001b[0m\n",
            "\u001b[2K   \u001b[90m━━━━━━━━━━━━━━━━━━━━━━━━━━━━━━━━━━━━━━━━\u001b[0m \u001b[32m2.1/2.1 MB\u001b[0m \u001b[31m98.9 MB/s\u001b[0m eta \u001b[36m0:00:00\u001b[0m\n",
            "\u001b[2K   \u001b[90m━━━━━━━━━━━━━━━━━━━━━━━━━━━━━━━━━━━━━━━━\u001b[0m \u001b[32m79.5/79.5 kB\u001b[0m \u001b[31m9.5 MB/s\u001b[0m eta \u001b[36m0:00:00\u001b[0m\n",
            "\u001b[?25h  Building wheel for wildlife-tools (pyproject.toml) ... \u001b[?25l\u001b[?25hdone\n",
            "  Building wheel for gluefactory (pyproject.toml) ... \u001b[?25l\u001b[?25hdone\n",
            "  Building wheel for lightglue (pyproject.toml) ... \u001b[?25l\u001b[?25hdone\n",
            "  Building wheel for antlr4-python3-runtime (setup.py) ... \u001b[?25l\u001b[?25hdone\n",
            "Using device: cuda\n"
          ]
        }
      ],
      "source": [
        "# Check if running in Kaggle or Colab\n",
        "IN_KAGGLE = os.environ.get('KAGGLE_KERNEL_RUN_TYPE', '')\n",
        "IN_COLAB = 'google.colab' in sys.modules\n",
        "\n",
        "if IN_KAGGLE:\n",
        "    print(\"Running in Kaggle\")\n",
        "    # Set data path\n",
        "    DATA_PATH = '/kaggle/input/animal-clef-2025'\n",
        "elif IN_COLAB:\n",
        "    print(\"Running in Google Colab\")\n",
        "    # Mount Google Drive if in Colab\n",
        "    from google.colab import drive\n",
        "    drive.mount('/content/drive')\n",
        "\n",
        "    # Install required packages\n",
        "    !pip install -q git+https://github.com/WildlifeDatasets/wildlife-datasets@develop\n",
        "    !pip install -q git+https://github.com/WildlifeDatasets/wildlife-tools\n",
        "    !pip install -q timm transformers\n",
        "# Set data path\n",
        "    DATA_PATH = '/content/drive/MyDrive/5524_CVEVAN/animal-clef-2025'\n",
        "else:\n",
        "    print(\"Running in local environment\")\n",
        "    # Set appropriate path for your environment\n",
        "    DATA_PATH = './animal-clef-2025'\n",
        "\n",
        "# Set device\n",
        "device = torch.device('cuda' if torch.cuda.is_available() else 'cpu')\n",
        "print(f\"Using device: {device}\")\n",
        "\n",
        "# Set random seeds for reproducibility\n",
        "SEED = 42\n",
        "np.random.seed(SEED)\n",
        "torch.manual_seed(SEED)\n",
        "if torch.cuda.is_available():\n",
        "    torch.cuda.manual_seed_all(SEED)"
      ]
    },
    {
      "cell_type": "markdown",
      "metadata": {
        "id": "MvlHWJvxj3F8"
      },
      "source": [
        "## 2. Load and Explore Dataset"
      ]
    },
    {
      "cell_type": "code",
      "execution_count": 10,
      "metadata": {
        "colab": {
          "base_uri": "https://localhost:8080/",
          "height": 224
        },
        "id": "QnZWdGEIj3F9",
        "outputId": "53cf0511-c8de-4ee6-d5c3-8d1df6d19357"
      },
      "outputs": [
        {
          "name": "stdout",
          "output_type": "stream",
          "text": [
            "Metadata shape: (15209, 8)\n"
          ]
        },
        {
          "data": {
            "text/html": [
              "<div>\n",
              "<style scoped>\n",
              "    .dataframe tbody tr th:only-of-type {\n",
              "        vertical-align: middle;\n",
              "    }\n",
              "\n",
              "    .dataframe tbody tr th {\n",
              "        vertical-align: top;\n",
              "    }\n",
              "\n",
              "    .dataframe thead th {\n",
              "        text-align: right;\n",
              "    }\n",
              "</style>\n",
              "<table border=\"1\" class=\"dataframe\">\n",
              "  <thead>\n",
              "    <tr style=\"text-align: right;\">\n",
              "      <th></th>\n",
              "      <th>image_id</th>\n",
              "      <th>identity</th>\n",
              "      <th>path</th>\n",
              "      <th>date</th>\n",
              "      <th>orientation</th>\n",
              "      <th>species</th>\n",
              "      <th>split</th>\n",
              "      <th>dataset</th>\n",
              "    </tr>\n",
              "  </thead>\n",
              "  <tbody>\n",
              "    <tr>\n",
              "      <th>0</th>\n",
              "      <td>0</td>\n",
              "      <td>LynxID2025_lynx_37</td>\n",
              "      <td>images/LynxID2025/database/000f9ee1aad063a4485...</td>\n",
              "      <td>NaN</td>\n",
              "      <td>right</td>\n",
              "      <td>lynx</td>\n",
              "      <td>database</td>\n",
              "      <td>LynxID2025</td>\n",
              "    </tr>\n",
              "    <tr>\n",
              "      <th>1</th>\n",
              "      <td>1</td>\n",
              "      <td>LynxID2025_lynx_37</td>\n",
              "      <td>images/LynxID2025/database/0020edb6689e9f78462...</td>\n",
              "      <td>NaN</td>\n",
              "      <td>left</td>\n",
              "      <td>lynx</td>\n",
              "      <td>database</td>\n",
              "      <td>LynxID2025</td>\n",
              "    </tr>\n",
              "    <tr>\n",
              "      <th>2</th>\n",
              "      <td>2</td>\n",
              "      <td>LynxID2025_lynx_49</td>\n",
              "      <td>images/LynxID2025/database/003152e4145b5b69400...</td>\n",
              "      <td>NaN</td>\n",
              "      <td>left</td>\n",
              "      <td>lynx</td>\n",
              "      <td>database</td>\n",
              "      <td>LynxID2025</td>\n",
              "    </tr>\n",
              "    <tr>\n",
              "      <th>3</th>\n",
              "      <td>3</td>\n",
              "      <td>NaN</td>\n",
              "      <td>images/LynxID2025/query/003b89301c7b9f6d18f722...</td>\n",
              "      <td>NaN</td>\n",
              "      <td>back</td>\n",
              "      <td>lynx</td>\n",
              "      <td>query</td>\n",
              "      <td>LynxID2025</td>\n",
              "    </tr>\n",
              "    <tr>\n",
              "      <th>4</th>\n",
              "      <td>4</td>\n",
              "      <td>LynxID2025_lynx_13</td>\n",
              "      <td>images/LynxID2025/database/003c3f82011e9c3f849...</td>\n",
              "      <td>NaN</td>\n",
              "      <td>right</td>\n",
              "      <td>lynx</td>\n",
              "      <td>database</td>\n",
              "      <td>LynxID2025</td>\n",
              "    </tr>\n",
              "  </tbody>\n",
              "</table>\n",
              "</div>"
            ],
            "text/plain": [
              "   image_id            identity  \\\n",
              "0         0  LynxID2025_lynx_37   \n",
              "1         1  LynxID2025_lynx_37   \n",
              "2         2  LynxID2025_lynx_49   \n",
              "3         3                 NaN   \n",
              "4         4  LynxID2025_lynx_13   \n",
              "\n",
              "                                                path date orientation species  \\\n",
              "0  images/LynxID2025/database/000f9ee1aad063a4485...  NaN       right    lynx   \n",
              "1  images/LynxID2025/database/0020edb6689e9f78462...  NaN        left    lynx   \n",
              "2  images/LynxID2025/database/003152e4145b5b69400...  NaN        left    lynx   \n",
              "3  images/LynxID2025/query/003b89301c7b9f6d18f722...  NaN        back    lynx   \n",
              "4  images/LynxID2025/database/003c3f82011e9c3f849...  NaN       right    lynx   \n",
              "\n",
              "      split     dataset  \n",
              "0  database  LynxID2025  \n",
              "1  database  LynxID2025  \n",
              "2  database  LynxID2025  \n",
              "3     query  LynxID2025  \n",
              "4  database  LynxID2025  "
            ]
          },
          "execution_count": 10,
          "metadata": {},
          "output_type": "execute_result"
        }
      ],
      "source": [
        "# Load metadata\n",
        "metadata = pd.read_csv(os.path.join(DATA_PATH, 'metadata.csv'))\n",
        "print(f\"Metadata shape: {metadata.shape}\")\n",
        "metadata.head()"
      ]
    },
    {
      "cell_type": "code",
      "execution_count": 11,
      "metadata": {
        "colab": {
          "base_uri": "https://localhost:8080/",
          "height": 821
        },
        "id": "iAyUL9Mmj3F9",
        "outputId": "014b77ea-071e-477a-c0c9-b7bb57dadb65"
      },
      "outputs": [
        {
          "name": "stdout",
          "output_type": "stream",
          "text": [
            "Total images: 15209\n",
            "Database images: 13074\n",
            "Query images: 2135\n",
            "\n",
            "Species distribution:\n",
            "species\n",
            "loggerhead turtle    9229\n",
            "lynx                 3903\n",
            "salamander            689\n",
            "Name: count, dtype: int64\n"
          ]
        },
        {
          "data": {
            "image/png": "[encoded data removed]",
            "text/plain": [
              "<Figure size 1000x600 with 1 Axes>"
            ]
          },
          "metadata": {},
          "output_type": "display_data"
        },
        {
          "name": "stdout",
          "output_type": "stream",
          "text": [
            "\n",
            "Number of unique individuals: 1102\n"
          ]
        }
      ],
      "source": [
        "import seaborn as sns\n",
        "\n",
        "# Explore dataset statistics\n",
        "print(f\"Total images: {len(metadata)}\")\n",
        "print(f\"Database images: {len(metadata[metadata['split'] == 'database'])}\")\n",
        "print(f\"Query images: {len(metadata[metadata['split'] == 'query'])}\")\n",
        "\n",
        "# Count species\n",
        "species_counts = metadata['species'].value_counts()\n",
        "print(\"\\nSpecies distribution:\")\n",
        "print(species_counts)\n",
        "\n",
        "# Visualize species distribution\n",
        "plt.figure(figsize=(10, 6))\n",
        "sns.barplot(x=species_counts.index, y=species_counts.values)\n",
        "plt.title('Species Distribution')\n",
        "plt.xticks(rotation=45)\n",
        "plt.tight_layout()\n",
        "plt.show()\n",
        "\n",
        "# Count unique individuals\n",
        "unique_individuals = metadata[metadata['identity'].notna()]['identity'].nunique()\n",
        "print(f\"\\nNumber of unique individuals: {unique_individuals}\")"
      ]
    },
    {
      "cell_type": "markdown",
      "metadata": {
        "id": "7ZdDQUwCj3F9"
      },
      "source": [
        "## 3. Data Preprocessing and Augmentation"
      ]
    },
    {
      "cell_type": "code",
      "execution_count": 12,
      "metadata": {
        "id": "8Gg-Ql-Ij3F9"
      },
      "outputs": [],
      "source": [
        "# Define image transformations\n",
        "\n",
        "# Create custom dataset class\n",
        "class AnimalReIDDataset(torch.utils.data.Dataset):\n",
        "    def __init__(self, metadata, root_dir, transform=None, split='database'):\n",
        "        self.metadata = metadata[metadata['split'] == split].reset_index(drop=True)\n",
        "        self.root_dir = root_dir\n",
        "        self.transform = transform\n",
        "        self.split = split\n",
        "\n",
        "        # Create label mapping for identities\n",
        "        if split in ['database', 'train']:\n",
        "            self.identities = sorted(self.metadata['identity'].dropna().unique())\n",
        "            self.identity_to_idx = {identity: idx for idx, identity in enumerate(self.identities)}\n",
        "\n",
        "    def __len__(self):\n",
        "        return len(self.metadata)\n",
        "\n",
        "    def __getitem__(self, idx):\n",
        "        row = self.metadata.iloc[idx]\n",
        "        img_path = os.path.join(self.root_dir, row['path'])\n",
        "        image = Image.open(img_path).convert('RGB')\n",
        "\n",
        "        if self.transform:\n",
        "            image = self.transform(image)\n",
        "\n",
        "        # For database images, return image, identity index, and identity\n",
        "        # if self.metadata['split'].iloc[0] == 'database':\n",
        "        if self.split in ['database', 'train']:\n",
        "            identity = row['identity']\n",
        "            if pd.isna(identity):\n",
        "                identity_idx = -1  # For images without identity\n",
        "            else:\n",
        "                identity_idx = self.identity_to_idx[identity]\n",
        "            return image, identity_idx, identity\n",
        "        # For query images, return image and image_id\n",
        "        else:\n",
        "            return image, row['image_id']"
      ]
    },
    {
      "cell_type": "markdown",
      "metadata": {
        "id": "QeidmR2Cj3F-"
      },
      "source": [
        "## 4. Feature Extraction and Retrieval Functions"
      ]
    },
    {
      "cell_type": "code",
      "execution_count": 13,
      "metadata": {
        "id": "UxldSK6Uj3F-"
      },
      "outputs": [],
      "source": [
        "# Extract embeddings from database images\n",
        "def extract_database_embeddings(model, data_loader):\n",
        "    model.eval()\n",
        "    embeddings = []\n",
        "    identities = []\n",
        "\n",
        "    with torch.no_grad():\n",
        "        for images, _, identity in tqdm(data_loader, desc='Extracting database embeddings'):\n",
        "            images = images.to(device)\n",
        "            batch_embeddings = model(images)\n",
        "            embeddings.append(batch_embeddings.cpu().numpy())\n",
        "            identities.extend(identity)\n",
        "\n",
        "    embeddings = np.vstack(embeddings)\n",
        "    return embeddings, identities\n",
        "\n",
        "# Extract embeddings from query images\n",
        "def extract_query_embeddings(model, data_loader):\n",
        "    model.eval()\n",
        "    embeddings = []\n",
        "    image_ids = []\n",
        "\n",
        "    with torch.no_grad():\n",
        "        for images, ids in tqdm(data_loader, desc='Extracting query embeddings'):\n",
        "            images = images.to(device)\n",
        "            batch_embeddings = model(images)\n",
        "            embeddings.append(batch_embeddings.cpu().numpy())\n",
        "            image_ids.extend(ids.numpy())\n",
        "\n",
        "    embeddings = np.vstack(embeddings)\n",
        "    return embeddings, image_ids\n",
        "\n",
        "# Perform retrieval using k-nearest neighbors\n",
        "def perform_retrieval(db_embeddings, query_embeddings, db_identities, query_ids, k=5, threshold=0.7):\n",
        "    # Initialize k-nearest neighbors\n",
        "    knn = NearestNeighbors(n_neighbors=min(k, len(db_embeddings)), metric='cosine')\n",
        "    knn.fit(db_embeddings)\n",
        "\n",
        "    # Find k-nearest neighbors for each query\n",
        "    distances, indices = knn.kneighbors(query_embeddings)\n",
        "\n",
        "    # Convert distances to similarities (1 - distance)\n",
        "    similarities = 1 - distances\n",
        "\n",
        "    # Make predictions\n",
        "    predictions = []\n",
        "    for i, (sims, idxs) in enumerate(zip(similarities, indices)):\n",
        "        query_id = query_ids[i]\n",
        "\n",
        "        # Check if the highest similarity is above threshold\n",
        "        if sims[0] > threshold:\n",
        "            # Predict the identity of the most similar database image\n",
        "            prediction = db_identities[idxs[0]]\n",
        "        else:\n",
        "            # Predict as new individual\n",
        "            prediction = 'new_individual'\n",
        "\n",
        "        predictions.append({'image_id': int(query_id), 'prediction': prediction})\n",
        "\n",
        "    return predictions"
      ]
    },
    {
      "cell_type": "markdown",
      "metadata": {
        "id": "g6tYjrKLj3F-"
      },
      "source": [
        "## 5. Evaluation Metrics"
      ]
    },
    {
      "cell_type": "code",
      "execution_count": 15,
      "metadata": {
        "id": "yDjFcE4Dj3F-"
      },
      "outputs": [],
      "source": [
        "# Evaluate predictions\n",
        "def evaluate_predictions(predictions, ground_truths):\n",
        "    \"\"\"\n",
        "    Calculate evaluation metrics for the predictions\n",
        "\n",
        "    Args:\n",
        "        predictions: List of predicted identities\n",
        "        ground_truths: List of ground truth identities\n",
        "\n",
        "    Returns:\n",
        "        metrics: Dictionary with evaluation metrics\n",
        "    \"\"\"\n",
        "    # Convert predictions and ground truths to binary format for metrics calculation\n",
        "    # 1 for known individual, 0 for new individual\n",
        "    y_pred_binary = [0 if p == 'new_individual' else 1 for p in predictions]\n",
        "    y_true_binary = [0 if gt == 'new_individual' else 1 for gt in ground_truths]\n",
        "\n",
        "    # Calculate metrics\n",
        "    accuracy = accuracy_score(y_true_binary, y_pred_binary)\n",
        "    precision = precision_score(y_true_binary, y_pred_binary, zero_division=0)\n",
        "    recall = recall_score(y_true_binary, y_pred_binary, zero_division=0)\n",
        "    f1 = f1_score(y_true_binary, y_pred_binary, zero_division=0)\n",
        "\n",
        "    # Calculate identity accuracy for known individuals\n",
        "    known_indices = [i for i, gt in enumerate(ground_truths) if gt != 'new_individual']\n",
        "    if known_indices:\n",
        "        known_predictions = [predictions[i] for i in known_indices]\n",
        "        known_ground_truths = [ground_truths[i] for i in known_indices]\n",
        "        identity_accuracy = sum(p == gt for p, gt in zip(known_predictions, known_ground_truths)) / len(known_indices)\n",
        "    else:\n",
        "        identity_accuracy = 0.0\n",
        "\n",
        "    metrics = {\n",
        "        'accuracy': accuracy,\n",
        "        'precision': precision,\n",
        "        'recall': recall,\n",
        "        'f1_score': f1,\n",
        "        'identity_accuracy': identity_accuracy\n",
        "    }\n",
        "\n",
        "    return metrics"
      ]
    },
    {
      "cell_type": "markdown",
      "metadata": {
        "id": "6WrMdngvj3F-"
      },
      "source": [
        "## 6. Main Execution"
      ]
    },
    {
      "cell_type": "markdown",
      "metadata": {
        "id": "xLWUTEHSudC9"
      },
      "source": [
        "### 6.1 Divide into train & val data"
      ]
    },
    {
      "cell_type": "code",
      "execution_count": 14,
      "metadata": {
        "colab": {
          "base_uri": "https://localhost:8080/",
          "height": 178
        },
        "id": "6ITwu_4dtsQ1",
        "outputId": "a8c14b69-390d-4349-996e-c26e1c9d97b9"
      },
      "outputs": [
        {
          "data": {
            "text/plain": [
              "split\n",
              "database    13074\n",
              "query        2135\n",
              "Name: count, dtype: int64"
            ]
          },
          "execution_count": 14,
          "metadata": {},
          "output_type": "execute_result"
        }
      ],
      "source": [
        "metadata['split'].value_counts()"
      ]
    },
    {
      "cell_type": "code",
      "execution_count": 16,
      "metadata": {
        "colab": {
          "base_uri": "https://localhost:8080/",
          "height": 210
        },
        "id": "Zzp8EXfIu4lw",
        "outputId": "b0a96786-5b21-4bc0-b5a2-052a9fa9b253"
      },
      "outputs": [
        {
          "data": {
            "text/plain": [
              "split\n",
              "train    11766\n",
              "query     2135\n",
              "val       1308\n",
              "Name: count, dtype: int64"
            ]
          },
          "execution_count": 16,
          "metadata": {},
          "output_type": "execute_result"
        }
      ],
      "source": [
        "metadata['orig_split'] = metadata['split']\n",
        "\n",
        "# divide split['database'] to train and val dataset\n",
        "database_df = metadata[metadata['split'] == 'database'].copy()\n",
        "train_df, val_df = train_test_split(database_df, test_size=0.1, random_state=42, shuffle=True)\n",
        "\n",
        "metadata.loc[train_df.index, 'split'] = 'train'\n",
        "metadata.loc[val_df.index, 'split'] = 'val'\n",
        "metadata['split'].value_counts()"
      ]
    },
    {
      "cell_type": "code",
      "execution_count": 17,
      "metadata": {
        "id": "3N8iUkZpvJ9P"
      },
      "outputs": [],
      "source": [
        "batch_size = 32\n",
        "\n",
        "# Define image transformations\n",
        "# Image transform\n",
        "transform = transforms.Compose([\n",
        "    transforms.Resize(size=(384, 384)),\n",
        "    transforms.ToTensor(),\n",
        "    transforms.Normalize([0.5, 0.5, 0.5], [0.5, 0.5, 0.5])\n",
        "])\n",
        "\n",
        "# construct dataset\n",
        "db_dataset = AnimalReIDDataset(metadata, DATA_PATH, transform, split='train')\n",
        "val_dataset   = AnimalReIDDataset(metadata, DATA_PATH, transform, split='val')\n",
        "query_dataset = AnimalReIDDataset(metadata, DATA_PATH, transform, split='query')\n",
        "\n",
        "# dataLoader\n",
        "db_loader = torch.utils.data.DataLoader(db_dataset, batch_size=batch_size, shuffle=True, num_workers=8)\n",
        "val_loader   = torch.utils.data.DataLoader(val_dataset, batch_size=batch_size, shuffle=False, num_workers=8)\n",
        "query_loader = torch.utils.data.DataLoader(query_dataset, batch_size=batch_size, shuffle=False)"
      ]
    },
    {
      "cell_type": "markdown",
      "metadata": {
        "id": "aWbq6BLzvLmp"
      },
      "source": [
        "### 6.2 Model Implementation"
      ]
    },
    {
      "cell_type": "code",
      "execution_count": 18,
      "metadata": {
        "colab": {
          "base_uri": "https://localhost:8080/"
        },
        "id": "AY_EUpyej3F-",
        "outputId": "441a451b-07df-4122-a2d4-acc4280bb258"
      },
      "outputs": [
        {
          "name": "stdout",
          "output_type": "stream",
          "text": [
            "Number of classes: 1061\n"
          ]
        }
      ],
      "source": [
        "# Initialize models\n",
        "num_classes = len(db_dataset.identities) if hasattr(db_dataset, 'identities') else 0\n",
        "print(f\"Number of classes: {num_classes}\")\n"
      ]
    },
    {
      "cell_type": "code",
      "execution_count": 21,
      "metadata": {
        "colab": {
          "base_uri": "https://localhost:8080/"
        },
        "id": "Y5_Uqeb-MCmg",
        "outputId": "48505290-41b7-4b99-b862-c1216bffe552"
      },
      "outputs": [],
      "source": [
        "model = timm.create_model(\"hf-hub:BVRA/MegaDescriptor-L-384\", pretrained=True)\n",
        "model = model.to(device)\n",
        "model = model.eval()"
      ]
    },
    {
      "cell_type": "markdown",
      "metadata": {
        "id": "Ioqz3jCwLCwV"
      },
      "source": [
        "### 6.3 Feature Extraction"
      ]
    },
    {
      "cell_type": "code",
      "execution_count": null,
      "metadata": {
        "colab": {
          "base_uri": "https://localhost:8080/",
          "height": 99,
          "referenced_widgets": [
            "c2439bde7a394445a46ff8e6a2864b93",
            "28631c32fa96461ea17cab37d9fcb5bc",
            "6988274d21fc4c97b9170fa2f16e236c",
            "27776844885a4f58807add1093a0e923",
            "558ed9bcca3c47fa82ba6c2157582340",
            "852d943e98eb4988b90af8bd3cea35e2",
            "41ff0e80ee31498abfb64b9379c98ba4",
            "1740a27df31f41f693199f72d099fa91",
            "d3d0d47cf83d454fa1575c16139e3ce8",
            "438e2e080d9a465ea48f5d847ee8a28e",
            "c62fa1e9c74e4e49a923a268ef7bcec3",
            "14346be603d94f0aa5ba504283e95cf8",
            "e2cd7e56ed694d6f94bf2db694606eed",
            "c7b30b66eaca459a8ea410bfd42899bd",
            "76f34a624f114a808b7ade5ace556380",
            "0153e2f201ef436ca1b4dfb27b4468f2",
            "57944a33a45244ecb53393a795a6acd0",
            "324ecf32133a4fe29abb2b27b882b3e5",
            "2b0e432803744ea8b2464c64fe2eb20e",
            "a30c6837fc4b443a9e2835ecdd9cc67c",
            "a04752df0d5a405da87636520c800dd7",
            "adb5d8b15f1240b5a835904654141864"
          ]
        },
        "id": "K4s5tr-8j3F-",
        "outputId": "2d7bb650-ed3e-457c-e6b6-49baa0e43b22"
      },
      "outputs": [
        {
          "name": "stdout",
          "output_type": "stream",
          "text": [
            "Extracting MegaDescriptor embeddings...\n"
          ]
        },
        {
          "data": {
            "application/vnd.jupyter.widget-view+json": {
              "model_id": "5d1d99409b2c481c9db43fda1dbbbd3e",
              "version_major": 2,
              "version_minor": 0
            },
            "text/plain": [
              "Extracting database embeddings:   0%|          | 0/368 [00:00<?, ?it/s]"
            ]
          },
          "metadata": {},
          "output_type": "display_data"
        }
      ],
      "source": [
        "# Extract embeddings using ResNet50\n",
        "print(\"Extracting MegaDescriptor embeddings...\")\n",
        "mega_db_embeddings, mega_db_identities = extract_database_embeddings(model, db_loader)\n",
        "mega_query_embeddings, mega_query_ids = extract_query_embeddings(model, query_loader)"
      ]
    },
    {
      "cell_type": "code",
      "execution_count": null,
      "metadata": {
        "colab": {
          "base_uri": "https://localhost:8080/",
          "height": 49,
          "referenced_widgets": [
            "1e4750bcf64a4bf59efa10c92b99e008",
            "fa4cc5bdc1074eca81556da79cb581f2",
            "d6d23c020d054ad182fdfc6e96fbe74f",
            "6769dc84c71b4d638588ca0c45a16067",
            "9effcb939409429db7ae80776feac7dc",
            "61dfc8eef1614d71b20f046478481583",
            "bcacee3870974009be51280292a3abe3",
            "3ae251a02b3840f28d8dc72f9f1c038e",
            "a13a1366de9f474290012a5d0a66c0d0",
            "8bf2f1b4c80d4ee69b7abdccb5a11ac3",
            "227d9ad3c7334b88ba7b0d311f93ec81"
          ]
        },
        "id": "vguN2ykiFnEE",
        "outputId": "6e57309b-14a3-4f09-d547-9c83c918249a"
      },
      "outputs": [
        {
          "data": {
            "application/vnd.jupyter.widget-view+json": {
              "model_id": "1e4750bcf64a4bf59efa10c92b99e008",
              "version_major": 2,
              "version_minor": 0
            },
            "text/plain": [
              "Extracting query embeddings:   0%|          | 0/41 [00:00<?, ?it/s]"
            ]
          },
          "metadata": {},
          "output_type": "display_data"
        }
      ],
      "source": [
        "mega_val_embeddings, mega_val_ids = extract_query_embeddings(model, val_loader)"
      ]
    },
    {
      "cell_type": "markdown",
      "metadata": {
        "id": "fHC5BCxjLIrh"
      },
      "source": [
        "### 6.4 Weight Save and Load"
      ]
    },
    {
      "cell_type": "code",
      "execution_count": null,
      "metadata": {
        "colab": {
          "base_uri": "https://localhost:8080/"
        },
        "id": "E5kZXxzx0FQQ",
        "outputId": "e805a6cc-1745-48e8-f573-1aa4dc2ad4db"
      },
      "outputs": [
        {
          "name": "stdout",
          "output_type": "stream",
          "text": [
            "Drive already mounted at /content/drive; to attempt to forcibly remount, call drive.mount(\"/content/drive\", force_remount=True).\n"
          ]
        }
      ],
      "source": [
        "# # Save embeddings to Google Drive if in Colab\n",
        "# if IN_COLAB:\n",
        "#     from google.colab import drive\n",
        "#     import os\n",
        "\n",
        "#     drive.mount('/content/drive')\n",
        "\n",
        "#     drive_path = './Mega_Embedding_Id/'\n",
        "#     os.makedirs(drive_path, exist_ok=True)\n",
        "\n",
        "#     # Save MegaDescriptor embeddings\n",
        "#     np.save(drive_path + 'mega_db_embeddings.npy', mega_db_embeddings)\n",
        "#     np.save(drive_path + 'mega_query_embeddings.npy', mega_query_embeddings)\n",
        "#     np.save(drive_path + 'mega_db_identities.npy', mega_db_identities)\n",
        "#     np.save(drive_path + 'mega_query_ids.npy', mega_query_ids)\n",
        "#     np.save(drive_path + 'mega_val_embeddings.npy', mega_val_embeddings)\n",
        "#     np.save(drive_path + 'mega_val_ids.npy', mega_val_ids)"
      ]
    },
    {
      "cell_type": "code",
      "execution_count": null,
      "metadata": {
        "colab": {
          "base_uri": "https://localhost:8080/"
        },
        "id": "_xTQKLQG0TNG",
        "outputId": "c356f5bb-1740-46a7-dc01-baa1a1f8d161"
      },
      "outputs": [
        {
          "name": "stdout",
          "output_type": "stream",
          "text": [
            "Loading saved embeddings from Google Drive...\n"
          ]
        }
      ],
      "source": [
        "# Load saved embeddings if available\n",
        "# Uncomment this section if you want to load previously saved embeddings\n",
        "drive_path = '/Mega_Embedding_Id'\n",
        "if os.path.exists(drive_path + 'resnet_db_embeddings.npy'):\n",
        "    print(\"Loading saved embeddings from Google Drive...\")\n",
        "    mega_db_embeddings = np.load(drive_path + 'mega_db_embeddings.npy')\n",
        "    mega_query_embeddings = np.load(drive_path + 'mega_query_embeddings.npy')\n",
        "    mega_db_identities = np.load(drive_path + 'mega_db_identities.npy')\n",
        "    mega_query_ids = np.load(drive_path + 'mega_query_ids.npy')\n",
        "    mega_val_embeddings = np.load(drive_path + 'mega_val_embeddings.npy')\n",
        "    mega_val_ids = np.load(drive_path + 'mega_val_ids.npy')\n"
      ]
    },
    {
      "cell_type": "code",
      "execution_count": 18,
      "metadata": {
        "colab": {
          "base_uri": "https://localhost:8080/",
          "height": 49,
          "referenced_widgets": [
            "134aac31cd7c4395bd0a8ac25f034a2d",
            "36f54081755f491a85984b9708f08ab3",
            "bd970a595c8d4d78b7649261a7ea0221",
            "2434006f52be414d8c86641a09db4451",
            "99d00ced49fe43b3beb7a29a716f1917",
            "96f0e76bf3c44d68b695805a97a5fa7d",
            "6f58a52fe1394d0092906ed48e09947e",
            "319ad782362d4074a8942107e8bdb0f5",
            "af48c52cdcbb4c36b29a2fe9a259bebc",
            "5d68948e143e46e7a2814dee238d5c0b",
            "64160a0ddc024bd69ee7e50262b28284"
          ]
        },
        "id": "U5E6m9ndYMOj",
        "outputId": "1829ce26-af78-46b8-db8e-5f8c44f05e55"
      },
      "outputs": [
        {
          "data": {
            "application/vnd.jupyter.widget-view+json": {
              "model_id": "134aac31cd7c4395bd0a8ac25f034a2d",
              "version_major": 2,
              "version_minor": 0
            },
            "text/plain": [
              "  0%|          | 0/1308 [00:00<?, ?it/s]"
            ]
          },
          "metadata": {},
          "output_type": "display_data"
        }
      ],
      "source": [
        "# MegaDescriptor\n",
        "val_metadata = metadata[metadata[\"split\"] == \"val\"]\n",
        "query_metadata = metadata[metadata[\"split\"] == \"query\"]\n",
        "ground_truths = []\n",
        "for q_id in mega_val_ids:\n",
        "    row = val_metadata[val_metadata[\"image_id\"] == q_id].iloc[0]\n",
        "    gt = row[\"identity\"] if not pd.isna(row[\"identity\"]) else \"new_individual\"\n",
        "    ground_truths.append(gt)\n",
        "\n",
        "# print(\"Performing retrieval...\")\n",
        "val_results = []\n",
        "mega_threshold = 0.5\n",
        "predicted_identities = []\n",
        "\n",
        "db_matrix = torch.tensor(mega_db_embeddings)\n",
        "val_embed_tensor = torch.tensor(mega_val_embeddings)\n",
        "\n",
        "for q_idx in tqdm(range(len(mega_val_ids))):\n",
        "    q_id = mega_val_ids[q_idx]\n",
        "    q_embed = val_embed_tensor[q_idx].unsqueeze(0)\n",
        "\n",
        "    # cosine similarity\n",
        "    sims = F.cosine_similarity(q_embed, db_matrix, dim=1)\n",
        "\n",
        "    best_idx = torch.argmax(sims).item()\n",
        "    best_score = sims[best_idx].item()\n",
        "\n",
        "    if best_score > mega_threshold:\n",
        "        prediction = mega_db_identities[best_idx]\n",
        "    else:\n",
        "        prediction = \"new_individual\"\n",
        "\n",
        "    val_results.append([q_id, prediction])\n",
        "    predicted_identities.append(prediction)"
      ]
    },
    {
      "cell_type": "code",
      "execution_count": 19,
      "metadata": {
        "colab": {
          "base_uri": "https://localhost:8080/"
        },
        "id": "YnxiwEQlZqDe",
        "outputId": "72a4c57b-d8e2-495a-b4ee-ae94c24828f6"
      },
      "outputs": [
        {
          "name": "stdout",
          "output_type": "stream",
          "text": [
            "\n",
            "📊 Evaluation Metrics:\n",
            "New/Known Accuracy: 0.9243\n",
            "Precision: 1.0000\n",
            "Recall:    0.9243\n",
            "F1 Score:  0.9607\n",
            "Identity Accuracy (for known): 0.7110\n"
          ]
        }
      ],
      "source": [
        "# === Binary: known vs new\n",
        "y_true_binary = [0 if gt == \"new_individual\" else 1 for gt in ground_truths]\n",
        "y_pred_binary = [0 if pred == \"new_individual\" else 1 for pred in predicted_identities]\n",
        "\n",
        "accuracy = accuracy_score(y_true_binary, y_pred_binary)\n",
        "precision = precision_score(y_true_binary, y_pred_binary, zero_division=0)\n",
        "recall = recall_score(y_true_binary, y_pred_binary, zero_division=0)\n",
        "f1 = f1_score(y_true_binary, y_pred_binary, zero_division=0)\n",
        "\n",
        "# === identity accuracy (only for known individuals)\n",
        "known_indices = [i for i, gt in enumerate(ground_truths) if gt != \"new_individual\"]\n",
        "if known_indices:\n",
        "    correct = sum(predicted_identities[i] == ground_truths[i] for i in known_indices)\n",
        "    identity_acc = correct / len(known_indices)\n",
        "else:\n",
        "    identity_acc = 0.0\n",
        "\n",
        "print(\"\\n📊 Evaluation Metrics:\")\n",
        "print(f\"New/Known Accuracy: {accuracy:.4f}\")\n",
        "print(f\"Precision: {precision:.4f}\")\n",
        "print(f\"Recall:    {recall:.4f}\")\n",
        "print(f\"F1 Score:  {f1:.4f}\")\n",
        "print(f\"Identity Accuracy (for known): {identity_acc:.4f}\")\n",
        "\n"
      ]
    },
    {
      "cell_type": "code",
      "execution_count": 21,
      "metadata": {
        "colab": {
          "base_uri": "https://localhost:8080/"
        },
        "id": "YicmaY87LiCw",
        "outputId": "40044289-c611-45fa-e513-98154c288d0d"
      },
      "outputs": [
        {
          "name": "stdout",
          "output_type": "stream",
          "text": [
            "\n",
            "📊 Official Open-Set Evaluation:\n",
            "BAKS (Balanced Accuracy on Known Samples):   0.5825\n",
            "BAUS (Balanced Accuracy on Unknown Samples): 0.0000\n",
            "Final Geometric Mean Score:                  0.0000\n",
            "{'BAKS': np.float64(0.5824828733009512), 'BAUS': 0.0, 'FinalScore': np.float64(0.0)}\n"
          ]
        }
      ],
      "source": [
        "from collections import defaultdict\n",
        "\n",
        "def compute_open_set_metrics(ground_truths, predicted_identities, verbose=True):\n",
        "    \"\"\"\n",
        "    Computes BAKS, BAUS, and final geometric mean score for open-set individual identification.\n",
        "\n",
        "    Args:\n",
        "        ground_truths: List[str], ground truth identity (use \"new_individual\" for unknowns)\n",
        "        predicted_identities: List[str], predicted identity (use \"new_individual\" for unknowns)\n",
        "        verbose: bool, whether to print results\n",
        "\n",
        "    Returns:\n",
        "        A dictionary with BAKS, BAUS, and geometric mean score\n",
        "    \"\"\"\n",
        "    known_gt_dict = defaultdict(list)\n",
        "    unknown_gt_list = []\n",
        "\n",
        "    for gt, pred in zip(ground_truths, predicted_identities):\n",
        "        if gt == \"new_individual\":\n",
        "            unknown_gt_list.append(pred == \"new_individual\")\n",
        "        else:\n",
        "            known_gt_dict[gt].append(pred == gt)\n",
        "\n",
        "    # Compute BAKS (per-class mean accuracy)\n",
        "    per_class_accs = [sum(results) / len(results) for results in known_gt_dict.values()]\n",
        "    baks = np.mean(per_class_accs) if per_class_accs else 0.0\n",
        "\n",
        "    # Compute BAUS (accuracy on unknowns)\n",
        "    baus = sum(unknown_gt_list) / len(unknown_gt_list) if unknown_gt_list else 0.0\n",
        "\n",
        "    # Geometric mean\n",
        "    final_score = np.sqrt(baks * baus)\n",
        "\n",
        "    if verbose:\n",
        "        print(\"\\n📊 Official Open-Set Evaluation:\")\n",
        "        print(f\"BAKS (Balanced Accuracy on Known Samples):   {baks:.4f}\")\n",
        "        print(f\"BAUS (Balanced Accuracy on Unknown Samples): {baus:.4f}\")\n",
        "        print(f\"Final Geometric Mean Score:                  {final_score:.4f}\")\n",
        "\n",
        "    return {\n",
        "        \"BAKS\": baks,\n",
        "        \"BAUS\": baus,\n",
        "        \"FinalScore\": final_score\n",
        "    }\n",
        "metrics = compute_open_set_metrics(ground_truths, predicted_identities)\n",
        "print(metrics)\n"
      ]
    },
    {
      "cell_type": "code",
      "execution_count": 24,
      "metadata": {
        "colab": {
          "base_uri": "https://localhost:8080/"
        },
        "id": "v1ml9T2Dj3F-",
        "outputId": "ab6d72c2-4fa4-436b-aa43-d5c60dda918e"
      },
      "outputs": [
        {
          "name": "stdout",
          "output_type": "stream",
          "text": [
            "Performing retrieval using MegaDescriptor...\n"
          ]
        }
      ],
      "source": [
        "# Perform retrieval using MegaDescriptor with optimized threshold\n",
        "print(\"Performing retrieval using MegaDescriptor...\")\n",
        "mega_threshold = 0.5  # Slightly higher threshold for better precision\n",
        "mega_predictions = perform_retrieval(\n",
        "    mega_db_embeddings, mega_query_embeddings, mega_db_identities, mega_query_ids, k=5, threshold=mega_threshold\n",
        ")"
      ]
    },
    {
      "cell_type": "markdown",
      "metadata": {
        "id": "_8nprG1rj3F-"
      },
      "source": [
        "## 7. Create Submission Files"
      ]
    },
    {
      "cell_type": "code",
      "execution_count": null,
      "metadata": {
        "colab": {
          "base_uri": "https://localhost:8080/",
          "height": 213
        },
        "id": "ssjnVZWpj3F_",
        "outputId": "d58aeb58-a48d-475e-93ef-d4ea1f9fe165"
      },
      "outputs": [
        {
          "name": "stdout",
          "output_type": "stream",
          "text": [
            "\n",
            "Submission file saved to 'Mega_submission.csv'\n",
            "Submission shape: (2135, 2)\n",
            "First few rows of submission:\n",
            "   image_id            identity\n",
            "0         3  LynxID2025_lynx_98\n",
            "1         5  LynxID2025_lynx_16\n",
            "2        12  LynxID2025_lynx_54\n",
            "3        13  LynxID2025_lynx_05\n",
            "4        18  LynxID2025_lynx_45\n",
            "All submissions saved to Google Drive.\n"
          ]
        },
        {
          "data": {
            "application/javascript": "\n    async function download(id, filename, size) {\n      if (!google.colab.kernel.accessAllowed) {\n        return;\n      }\n      const div = document.createElement('div');\n      const label = document.createElement('label');\n      label.textContent = `Downloading \"${filename}\": `;\n      div.appendChild(label);\n      const progress = document.createElement('progress');\n      progress.max = size;\n      div.appendChild(progress);\n      document.body.appendChild(div);\n\n      const buffers = [];\n      let downloaded = 0;\n\n      const channel = await google.colab.kernel.comms.open(id);\n      // Send a message to notify the kernel that we're ready.\n      channel.send({})\n\n      for await (const message of channel.messages) {\n        // Send a message to notify the kernel that we're ready.\n        channel.send({})\n        if (message.buffers) {\n          for (const buffer of message.buffers) {\n            buffers.push(buffer);\n            downloaded += buffer.byteLength;\n            progress.value = downloaded;\n          }\n        }\n      }\n      const blob = new Blob(buffers, {type: 'application/binary'});\n      const a = document.createElement('a');\n      a.href = window.URL.createObjectURL(blob);\n      a.download = filename;\n      div.appendChild(a);\n      a.click();\n      div.remove();\n    }\n  ",
            "text/plain": [
              "<IPython.core.display.Javascript object>"
            ]
          },
          "metadata": {},
          "output_type": "display_data"
        },
        {
          "data": {
            "application/javascript": "download(\"download_ff369c5c-d79f-4233-ae47-c8925dc0d839\", \"Mega_submission.csv\", 51384)",
            "text/plain": [
              "<IPython.core.display.Javascript object>"
            ]
          },
          "metadata": {},
          "output_type": "display_data"
        }
      ],
      "source": [
        "# Create MegaDescriptor submission file\n",
        "def create_submission_file(predictions, filename):\n",
        "    \"\"\"\n",
        "    Create a properly formatted submission file\n",
        "\n",
        "    Args:\n",
        "        predictions: List of prediction dictionaries with 'image_id' and 'prediction' keys\n",
        "        filename: Output filename for the submission CSV\n",
        "    \"\"\"\n",
        "    # Create submission dataframe with correct format\n",
        "    submission_df = pd.DataFrame()\n",
        "    submission_df['image_id'] = [pred['image_id'] for pred in predictions]\n",
        "    submission_df['identity'] = [pred['prediction'] for pred in predictions]\n",
        "\n",
        "    # Sort by image_id to ensure consistent order\n",
        "    submission_df = submission_df.sort_values('image_id').reset_index(drop=True)\n",
        "\n",
        "    # Verify that all query images are included\n",
        "    expected_query_ids = sorted(query_metadata['image_id'].values)\n",
        "    submission_ids = sorted(submission_df['image_id'].values)\n",
        "\n",
        "    if len(expected_query_ids) != len(submission_ids) or not all(a == b for a, b in zip(expected_query_ids, submission_ids)):\n",
        "        print(f\"WARNING: Submission doesn't contain all expected query IDs!\")\n",
        "        print(f\"Expected {len(expected_query_ids)} IDs, got {len(submission_ids)}\")\n",
        "\n",
        "        # Fix by creating a new dataframe with all expected IDs\n",
        "        fixed_submission = []\n",
        "        for query_id in expected_query_ids:\n",
        "            # Find the prediction for this query_id\n",
        "            match = next((pred for pred in predictions if pred['image_id'] == query_id), None)\n",
        "            if match:\n",
        "                fixed_submission.append({\n",
        "                    'image_id': query_id,\n",
        "                    'identity': match['prediction']\n",
        "                })\n",
        "            else:\n",
        "                # If no match found, use 'new_individual' as a fallback\n",
        "                fixed_submission.append({\n",
        "                    'image_id': query_id,\n",
        "                    'identity': 'new_individual'\n",
        "                })\n",
        "\n",
        "        submission_df = pd.DataFrame(fixed_submission)\n",
        "\n",
        "    # Save submission file\n",
        "    submission_df.to_csv(filename, index=False)\n",
        "    print(f\"\\nSubmission file saved to '{filename}'\")\n",
        "    print(f\"Submission shape: {submission_df.shape}\")\n",
        "    print(\"First few rows of submission:\")\n",
        "    print(submission_df.head())\n",
        "\n",
        "    return submission_df\n",
        "\n",
        "# Create Mega submission\n",
        "mega_submission = create_submission_file(mega_predictions, 'result/Mega_submission.csv')\n",
        "\n",
        "# Save in Google Drive if in Colab\n",
        "if IN_COLAB:\n",
        "    mega_submission.to_csv('/content/drive/MyDrive/5524_CVEVAN/Mega_submission.csv', index=False)\n",
        "    print(\"All submissions saved to Google Drive.\")\n",
        "\n",
        "    # Download the submission files\n",
        "    from google.colab import files\n",
        "    files.download('Mega_submission.csv')"
      ]
    },
    {
      "cell_type": "code",
      "execution_count": 27,
      "metadata": {
        "id": "wkb_oq1Y7N-5"
      },
      "outputs": [],
      "source": [
        "# # Submit to Kaggle (uncomment to submit)\n",
        "# if IN_COLAB:\n",
        "#     # Submit ResNet50 model\n",
        "#     !kaggle competitions submit -c animal-clef-2025 -f resnet_submission.csv -m \"ResNet50 model with fixed submission format\""
      ]
    }
  ],
  "metadata": {
    "accelerator": "GPU",
    "colab": {
      "gpuType": "T4",
      "machine_shape": "hm",
      "provenance": []
    },
    "kernelspec": {
      "display_name": "animalvenv",
      "language": "python",
      "name": "python3"
    },
    "language_info": {
      "codemirror_mode": {
        "name": "ipython",
        "version": 3
      },
      "file_extension": ".py",
      "mimetype": "text/x-python",
      "name": "python",
      "nbconvert_exporter": "python",
      "pygments_lexer": "ipython3",
      "version": "3.11.0"
    },
    "widgets": {
      "application/vnd.jupyter.widget-state+json": {
        "0153e2f201ef436ca1b4dfb27b4468f2": {
          "model_module": "@jupyter-widgets/base",
          "model_module_version": "1.2.0",
          "model_name": "LayoutModel",
          "state": {
            "_model_module": "@jupyter-widgets/base",
            "_model_module_version": "1.2.0",
            "_model_name": "LayoutModel",
            "_view_count": null,
            "_view_module": "@jupyter-widgets/base",
            "_view_module_version": "1.2.0",
            "_view_name": "LayoutView",
            "align_content": null,
            "align_items": null,
            "align_self": null,
            "border": null,
            "bottom": null,
            "display": null,
            "flex": null,
            "flex_flow": null,
            "grid_area": null,
            "grid_auto_columns": null,
            "grid_auto_flow": null,
            "grid_auto_rows": null,
            "grid_column": null,
            "grid_gap": null,
            "grid_row": null,
            "grid_template_areas": null,
            "grid_template_columns": null,
            "grid_template_rows": null,
            "height": null,
            "justify_content": null,
            "justify_items": null,
            "left": null,
            "margin": null,
            "max_height": null,
            "max_width": null,
            "min_height": null,
            "min_width": null,
            "object_fit": null,
            "object_position": null,
            "order": null,
            "overflow": null,
            "overflow_x": null,
            "overflow_y": null,
            "padding": null,
            "right": null,
            "top": null,
            "visibility": null,
            "width": null
          }
        },
        "134aac31cd7c4395bd0a8ac25f034a2d": {
          "model_module": "@jupyter-widgets/controls",
          "model_module_version": "1.5.0",
          "model_name": "HBoxModel",
          "state": {
            "_dom_classes": [],
            "_model_module": "@jupyter-widgets/controls",
            "_model_module_version": "1.5.0",
            "_model_name": "HBoxModel",
            "_view_count": null,
            "_view_module": "@jupyter-widgets/controls",
            "_view_module_version": "1.5.0",
            "_view_name": "HBoxView",
            "box_style": "",
            "children": [
              "IPY_MODEL_36f54081755f491a85984b9708f08ab3",
              "IPY_MODEL_bd970a595c8d4d78b7649261a7ea0221",
              "IPY_MODEL_2434006f52be414d8c86641a09db4451"
            ],
            "layout": "IPY_MODEL_99d00ced49fe43b3beb7a29a716f1917"
          }
        },
        "14346be603d94f0aa5ba504283e95cf8": {
          "model_module": "@jupyter-widgets/controls",
          "model_module_version": "1.5.0",
          "model_name": "HBoxModel",
          "state": {
            "_dom_classes": [],
            "_model_module": "@jupyter-widgets/controls",
            "_model_module_version": "1.5.0",
            "_model_name": "HBoxModel",
            "_view_count": null,
            "_view_module": "@jupyter-widgets/controls",
            "_view_module_version": "1.5.0",
            "_view_name": "HBoxView",
            "box_style": "",
            "children": [
              "IPY_MODEL_e2cd7e56ed694d6f94bf2db694606eed",
              "IPY_MODEL_c7b30b66eaca459a8ea410bfd42899bd",
              "IPY_MODEL_76f34a624f114a808b7ade5ace556380"
            ],
            "layout": "IPY_MODEL_0153e2f201ef436ca1b4dfb27b4468f2"
          }
        },
        "1740a27df31f41f693199f72d099fa91": {
          "model_module": "@jupyter-widgets/base",
          "model_module_version": "1.2.0",
          "model_name": "LayoutModel",
          "state": {
            "_model_module": "@jupyter-widgets/base",
            "_model_module_version": "1.2.0",
            "_model_name": "LayoutModel",
            "_view_count": null,
            "_view_module": "@jupyter-widgets/base",
            "_view_module_version": "1.2.0",
            "_view_name": "LayoutView",
            "align_content": null,
            "align_items": null,
            "align_self": null,
            "border": null,
            "bottom": null,
            "display": null,
            "flex": null,
            "flex_flow": null,
            "grid_area": null,
            "grid_auto_columns": null,
            "grid_auto_flow": null,
            "grid_auto_rows": null,
            "grid_column": null,
            "grid_gap": null,
            "grid_row": null,
            "grid_template_areas": null,
            "grid_template_columns": null,
            "grid_template_rows": null,
            "height": null,
            "justify_content": null,
            "justify_items": null,
            "left": null,
            "margin": null,
            "max_height": null,
            "max_width": null,
            "min_height": null,
            "min_width": null,
            "object_fit": null,
            "object_position": null,
            "order": null,
            "overflow": null,
            "overflow_x": null,
            "overflow_y": null,
            "padding": null,
            "right": null,
            "top": null,
            "visibility": null,
            "width": null
          }
        },
        "1e4750bcf64a4bf59efa10c92b99e008": {
          "model_module": "@jupyter-widgets/controls",
          "model_module_version": "1.5.0",
          "model_name": "HBoxModel",
          "state": {
            "_dom_classes": [],
            "_model_module": "@jupyter-widgets/controls",
            "_model_module_version": "1.5.0",
            "_model_name": "HBoxModel",
            "_view_count": null,
            "_view_module": "@jupyter-widgets/controls",
            "_view_module_version": "1.5.0",
            "_view_name": "HBoxView",
            "box_style": "",
            "children": [
              "IPY_MODEL_fa4cc5bdc1074eca81556da79cb581f2",
              "IPY_MODEL_d6d23c020d054ad182fdfc6e96fbe74f",
              "IPY_MODEL_6769dc84c71b4d638588ca0c45a16067"
            ],
            "layout": "IPY_MODEL_9effcb939409429db7ae80776feac7dc"
          }
        },
        "227d9ad3c7334b88ba7b0d311f93ec81": {
          "model_module": "@jupyter-widgets/controls",
          "model_module_version": "1.5.0",
          "model_name": "DescriptionStyleModel",
          "state": {
            "_model_module": "@jupyter-widgets/controls",
            "_model_module_version": "1.5.0",
            "_model_name": "DescriptionStyleModel",
            "_view_count": null,
            "_view_module": "@jupyter-widgets/base",
            "_view_module_version": "1.2.0",
            "_view_name": "StyleView",
            "description_width": ""
          }
        },
        "2434006f52be414d8c86641a09db4451": {
          "model_module": "@jupyter-widgets/controls",
          "model_module_version": "1.5.0",
          "model_name": "HTMLModel",
          "state": {
            "_dom_classes": [],
            "_model_module": "@jupyter-widgets/controls",
            "_model_module_version": "1.5.0",
            "_model_name": "HTMLModel",
            "_view_count": null,
            "_view_module": "@jupyter-widgets/controls",
            "_view_module_version": "1.5.0",
            "_view_name": "HTMLView",
            "description": "",
            "description_tooltip": null,
            "layout": "IPY_MODEL_5d68948e143e46e7a2814dee238d5c0b",
            "placeholder": "​",
            "style": "IPY_MODEL_64160a0ddc024bd69ee7e50262b28284",
            "value": " 1308/1308 [01:02&lt;00:00, 21.47it/s]"
          }
        },
        "27776844885a4f58807add1093a0e923": {
          "model_module": "@jupyter-widgets/controls",
          "model_module_version": "1.5.0",
          "model_name": "HTMLModel",
          "state": {
            "_dom_classes": [],
            "_model_module": "@jupyter-widgets/controls",
            "_model_module_version": "1.5.0",
            "_model_name": "HTMLModel",
            "_view_count": null,
            "_view_module": "@jupyter-widgets/controls",
            "_view_module_version": "1.5.0",
            "_view_name": "HTMLView",
            "description": "",
            "description_tooltip": null,
            "layout": "IPY_MODEL_438e2e080d9a465ea48f5d847ee8a28e",
            "placeholder": "​",
            "style": "IPY_MODEL_c62fa1e9c74e4e49a923a268ef7bcec3",
            "value": " 368/368 [14:41&lt;00:00,  2.18s/it]"
          }
        },
        "28631c32fa96461ea17cab37d9fcb5bc": {
          "model_module": "@jupyter-widgets/controls",
          "model_module_version": "1.5.0",
          "model_name": "HTMLModel",
          "state": {
            "_dom_classes": [],
            "_model_module": "@jupyter-widgets/controls",
            "_model_module_version": "1.5.0",
            "_model_name": "HTMLModel",
            "_view_count": null,
            "_view_module": "@jupyter-widgets/controls",
            "_view_module_version": "1.5.0",
            "_view_name": "HTMLView",
            "description": "",
            "description_tooltip": null,
            "layout": "IPY_MODEL_852d943e98eb4988b90af8bd3cea35e2",
            "placeholder": "​",
            "style": "IPY_MODEL_41ff0e80ee31498abfb64b9379c98ba4",
            "value": "Extracting database embeddings: 100%"
          }
        },
        "2b0e432803744ea8b2464c64fe2eb20e": {
          "model_module": "@jupyter-widgets/base",
          "model_module_version": "1.2.0",
          "model_name": "LayoutModel",
          "state": {
            "_model_module": "@jupyter-widgets/base",
            "_model_module_version": "1.2.0",
            "_model_name": "LayoutModel",
            "_view_count": null,
            "_view_module": "@jupyter-widgets/base",
            "_view_module_version": "1.2.0",
            "_view_name": "LayoutView",
            "align_content": null,
            "align_items": null,
            "align_self": null,
            "border": null,
            "bottom": null,
            "display": null,
            "flex": null,
            "flex_flow": null,
            "grid_area": null,
            "grid_auto_columns": null,
            "grid_auto_flow": null,
            "grid_auto_rows": null,
            "grid_column": null,
            "grid_gap": null,
            "grid_row": null,
            "grid_template_areas": null,
            "grid_template_columns": null,
            "grid_template_rows": null,
            "height": null,
            "justify_content": null,
            "justify_items": null,
            "left": null,
            "margin": null,
            "max_height": null,
            "max_width": null,
            "min_height": null,
            "min_width": null,
            "object_fit": null,
            "object_position": null,
            "order": null,
            "overflow": null,
            "overflow_x": null,
            "overflow_y": null,
            "padding": null,
            "right": null,
            "top": null,
            "visibility": null,
            "width": null
          }
        },
        "319ad782362d4074a8942107e8bdb0f5": {
          "model_module": "@jupyter-widgets/base",
          "model_module_version": "1.2.0",
          "model_name": "LayoutModel",
          "state": {
            "_model_module": "@jupyter-widgets/base",
            "_model_module_version": "1.2.0",
            "_model_name": "LayoutModel",
            "_view_count": null,
            "_view_module": "@jupyter-widgets/base",
            "_view_module_version": "1.2.0",
            "_view_name": "LayoutView",
            "align_content": null,
            "align_items": null,
            "align_self": null,
            "border": null,
            "bottom": null,
            "display": null,
            "flex": null,
            "flex_flow": null,
            "grid_area": null,
            "grid_auto_columns": null,
            "grid_auto_flow": null,
            "grid_auto_rows": null,
            "grid_column": null,
            "grid_gap": null,
            "grid_row": null,
            "grid_template_areas": null,
            "grid_template_columns": null,
            "grid_template_rows": null,
            "height": null,
            "justify_content": null,
            "justify_items": null,
            "left": null,
            "margin": null,
            "max_height": null,
            "max_width": null,
            "min_height": null,
            "min_width": null,
            "object_fit": null,
            "object_position": null,
            "order": null,
            "overflow": null,
            "overflow_x": null,
            "overflow_y": null,
            "padding": null,
            "right": null,
            "top": null,
            "visibility": null,
            "width": null
          }
        },
        "324ecf32133a4fe29abb2b27b882b3e5": {
          "model_module": "@jupyter-widgets/controls",
          "model_module_version": "1.5.0",
          "model_name": "DescriptionStyleModel",
          "state": {
            "_model_module": "@jupyter-widgets/controls",
            "_model_module_version": "1.5.0",
            "_model_name": "DescriptionStyleModel",
            "_view_count": null,
            "_view_module": "@jupyter-widgets/base",
            "_view_module_version": "1.2.0",
            "_view_name": "StyleView",
            "description_width": ""
          }
        },
        "36f54081755f491a85984b9708f08ab3": {
          "model_module": "@jupyter-widgets/controls",
          "model_module_version": "1.5.0",
          "model_name": "HTMLModel",
          "state": {
            "_dom_classes": [],
            "_model_module": "@jupyter-widgets/controls",
            "_model_module_version": "1.5.0",
            "_model_name": "HTMLModel",
            "_view_count": null,
            "_view_module": "@jupyter-widgets/controls",
            "_view_module_version": "1.5.0",
            "_view_name": "HTMLView",
            "description": "",
            "description_tooltip": null,
            "layout": "IPY_MODEL_96f0e76bf3c44d68b695805a97a5fa7d",
            "placeholder": "​",
            "style": "IPY_MODEL_6f58a52fe1394d0092906ed48e09947e",
            "value": "100%"
          }
        },
        "3ae251a02b3840f28d8dc72f9f1c038e": {
          "model_module": "@jupyter-widgets/base",
          "model_module_version": "1.2.0",
          "model_name": "LayoutModel",
          "state": {
            "_model_module": "@jupyter-widgets/base",
            "_model_module_version": "1.2.0",
            "_model_name": "LayoutModel",
            "_view_count": null,
            "_view_module": "@jupyter-widgets/base",
            "_view_module_version": "1.2.0",
            "_view_name": "LayoutView",
            "align_content": null,
            "align_items": null,
            "align_self": null,
            "border": null,
            "bottom": null,
            "display": null,
            "flex": null,
            "flex_flow": null,
            "grid_area": null,
            "grid_auto_columns": null,
            "grid_auto_flow": null,
            "grid_auto_rows": null,
            "grid_column": null,
            "grid_gap": null,
            "grid_row": null,
            "grid_template_areas": null,
            "grid_template_columns": null,
            "grid_template_rows": null,
            "height": null,
            "justify_content": null,
            "justify_items": null,
            "left": null,
            "margin": null,
            "max_height": null,
            "max_width": null,
            "min_height": null,
            "min_width": null,
            "object_fit": null,
            "object_position": null,
            "order": null,
            "overflow": null,
            "overflow_x": null,
            "overflow_y": null,
            "padding": null,
            "right": null,
            "top": null,
            "visibility": null,
            "width": null
          }
        },
        "41ff0e80ee31498abfb64b9379c98ba4": {
          "model_module": "@jupyter-widgets/controls",
          "model_module_version": "1.5.0",
          "model_name": "DescriptionStyleModel",
          "state": {
            "_model_module": "@jupyter-widgets/controls",
            "_model_module_version": "1.5.0",
            "_model_name": "DescriptionStyleModel",
            "_view_count": null,
            "_view_module": "@jupyter-widgets/base",
            "_view_module_version": "1.2.0",
            "_view_name": "StyleView",
            "description_width": ""
          }
        },
        "438e2e080d9a465ea48f5d847ee8a28e": {
          "model_module": "@jupyter-widgets/base",
          "model_module_version": "1.2.0",
          "model_name": "LayoutModel",
          "state": {
            "_model_module": "@jupyter-widgets/base",
            "_model_module_version": "1.2.0",
            "_model_name": "LayoutModel",
            "_view_count": null,
            "_view_module": "@jupyter-widgets/base",
            "_view_module_version": "1.2.0",
            "_view_name": "LayoutView",
            "align_content": null,
            "align_items": null,
            "align_self": null,
            "border": null,
            "bottom": null,
            "display": null,
            "flex": null,
            "flex_flow": null,
            "grid_area": null,
            "grid_auto_columns": null,
            "grid_auto_flow": null,
            "grid_auto_rows": null,
            "grid_column": null,
            "grid_gap": null,
            "grid_row": null,
            "grid_template_areas": null,
            "grid_template_columns": null,
            "grid_template_rows": null,
            "height": null,
            "justify_content": null,
            "justify_items": null,
            "left": null,
            "margin": null,
            "max_height": null,
            "max_width": null,
            "min_height": null,
            "min_width": null,
            "object_fit": null,
            "object_position": null,
            "order": null,
            "overflow": null,
            "overflow_x": null,
            "overflow_y": null,
            "padding": null,
            "right": null,
            "top": null,
            "visibility": null,
            "width": null
          }
        },
        "558ed9bcca3c47fa82ba6c2157582340": {
          "model_module": "@jupyter-widgets/base",
          "model_module_version": "1.2.0",
          "model_name": "LayoutModel",
          "state": {
            "_model_module": "@jupyter-widgets/base",
            "_model_module_version": "1.2.0",
            "_model_name": "LayoutModel",
            "_view_count": null,
            "_view_module": "@jupyter-widgets/base",
            "_view_module_version": "1.2.0",
            "_view_name": "LayoutView",
            "align_content": null,
            "align_items": null,
            "align_self": null,
            "border": null,
            "bottom": null,
            "display": null,
            "flex": null,
            "flex_flow": null,
            "grid_area": null,
            "grid_auto_columns": null,
            "grid_auto_flow": null,
            "grid_auto_rows": null,
            "grid_column": null,
            "grid_gap": null,
            "grid_row": null,
            "grid_template_areas": null,
            "grid_template_columns": null,
            "grid_template_rows": null,
            "height": null,
            "justify_content": null,
            "justify_items": null,
            "left": null,
            "margin": null,
            "max_height": null,
            "max_width": null,
            "min_height": null,
            "min_width": null,
            "object_fit": null,
            "object_position": null,
            "order": null,
            "overflow": null,
            "overflow_x": null,
            "overflow_y": null,
            "padding": null,
            "right": null,
            "top": null,
            "visibility": null,
            "width": null
          }
        },
        "57944a33a45244ecb53393a795a6acd0": {
          "model_module": "@jupyter-widgets/base",
          "model_module_version": "1.2.0",
          "model_name": "LayoutModel",
          "state": {
            "_model_module": "@jupyter-widgets/base",
            "_model_module_version": "1.2.0",
            "_model_name": "LayoutModel",
            "_view_count": null,
            "_view_module": "@jupyter-widgets/base",
            "_view_module_version": "1.2.0",
            "_view_name": "LayoutView",
            "align_content": null,
            "align_items": null,
            "align_self": null,
            "border": null,
            "bottom": null,
            "display": null,
            "flex": null,
            "flex_flow": null,
            "grid_area": null,
            "grid_auto_columns": null,
            "grid_auto_flow": null,
            "grid_auto_rows": null,
            "grid_column": null,
            "grid_gap": null,
            "grid_row": null,
            "grid_template_areas": null,
            "grid_template_columns": null,
            "grid_template_rows": null,
            "height": null,
            "justify_content": null,
            "justify_items": null,
            "left": null,
            "margin": null,
            "max_height": null,
            "max_width": null,
            "min_height": null,
            "min_width": null,
            "object_fit": null,
            "object_position": null,
            "order": null,
            "overflow": null,
            "overflow_x": null,
            "overflow_y": null,
            "padding": null,
            "right": null,
            "top": null,
            "visibility": null,
            "width": null
          }
        },
        "5d68948e143e46e7a2814dee238d5c0b": {
          "model_module": "@jupyter-widgets/base",
          "model_module_version": "1.2.0",
          "model_name": "LayoutModel",
          "state": {
            "_model_module": "@jupyter-widgets/base",
            "_model_module_version": "1.2.0",
            "_model_name": "LayoutModel",
            "_view_count": null,
            "_view_module": "@jupyter-widgets/base",
            "_view_module_version": "1.2.0",
            "_view_name": "LayoutView",
            "align_content": null,
            "align_items": null,
            "align_self": null,
            "border": null,
            "bottom": null,
            "display": null,
            "flex": null,
            "flex_flow": null,
            "grid_area": null,
            "grid_auto_columns": null,
            "grid_auto_flow": null,
            "grid_auto_rows": null,
            "grid_column": null,
            "grid_gap": null,
            "grid_row": null,
            "grid_template_areas": null,
            "grid_template_columns": null,
            "grid_template_rows": null,
            "height": null,
            "justify_content": null,
            "justify_items": null,
            "left": null,
            "margin": null,
            "max_height": null,
            "max_width": null,
            "min_height": null,
            "min_width": null,
            "object_fit": null,
            "object_position": null,
            "order": null,
            "overflow": null,
            "overflow_x": null,
            "overflow_y": null,
            "padding": null,
            "right": null,
            "top": null,
            "visibility": null,
            "width": null
          }
        },
        "61dfc8eef1614d71b20f046478481583": {
          "model_module": "@jupyter-widgets/base",
          "model_module_version": "1.2.0",
          "model_name": "LayoutModel",
          "state": {
            "_model_module": "@jupyter-widgets/base",
            "_model_module_version": "1.2.0",
            "_model_name": "LayoutModel",
            "_view_count": null,
            "_view_module": "@jupyter-widgets/base",
            "_view_module_version": "1.2.0",
            "_view_name": "LayoutView",
            "align_content": null,
            "align_items": null,
            "align_self": null,
            "border": null,
            "bottom": null,
            "display": null,
            "flex": null,
            "flex_flow": null,
            "grid_area": null,
            "grid_auto_columns": null,
            "grid_auto_flow": null,
            "grid_auto_rows": null,
            "grid_column": null,
            "grid_gap": null,
            "grid_row": null,
            "grid_template_areas": null,
            "grid_template_columns": null,
            "grid_template_rows": null,
            "height": null,
            "justify_content": null,
            "justify_items": null,
            "left": null,
            "margin": null,
            "max_height": null,
            "max_width": null,
            "min_height": null,
            "min_width": null,
            "object_fit": null,
            "object_position": null,
            "order": null,
            "overflow": null,
            "overflow_x": null,
            "overflow_y": null,
            "padding": null,
            "right": null,
            "top": null,
            "visibility": null,
            "width": null
          }
        },
        "64160a0ddc024bd69ee7e50262b28284": {
          "model_module": "@jupyter-widgets/controls",
          "model_module_version": "1.5.0",
          "model_name": "DescriptionStyleModel",
          "state": {
            "_model_module": "@jupyter-widgets/controls",
            "_model_module_version": "1.5.0",
            "_model_name": "DescriptionStyleModel",
            "_view_count": null,
            "_view_module": "@jupyter-widgets/base",
            "_view_module_version": "1.2.0",
            "_view_name": "StyleView",
            "description_width": ""
          }
        },
        "6769dc84c71b4d638588ca0c45a16067": {
          "model_module": "@jupyter-widgets/controls",
          "model_module_version": "1.5.0",
          "model_name": "HTMLModel",
          "state": {
            "_dom_classes": [],
            "_model_module": "@jupyter-widgets/controls",
            "_model_module_version": "1.5.0",
            "_model_name": "HTMLModel",
            "_view_count": null,
            "_view_module": "@jupyter-widgets/controls",
            "_view_module_version": "1.5.0",
            "_view_name": "HTMLView",
            "description": "",
            "description_tooltip": null,
            "layout": "IPY_MODEL_8bf2f1b4c80d4ee69b7abdccb5a11ac3",
            "placeholder": "​",
            "style": "IPY_MODEL_227d9ad3c7334b88ba7b0d311f93ec81",
            "value": " 41/41 [01:40&lt;00:00,  2.33s/it]"
          }
        },
        "6988274d21fc4c97b9170fa2f16e236c": {
          "model_module": "@jupyter-widgets/controls",
          "model_module_version": "1.5.0",
          "model_name": "FloatProgressModel",
          "state": {
            "_dom_classes": [],
            "_model_module": "@jupyter-widgets/controls",
            "_model_module_version": "1.5.0",
            "_model_name": "FloatProgressModel",
            "_view_count": null,
            "_view_module": "@jupyter-widgets/controls",
            "_view_module_version": "1.5.0",
            "_view_name": "ProgressView",
            "bar_style": "success",
            "description": "",
            "description_tooltip": null,
            "layout": "IPY_MODEL_1740a27df31f41f693199f72d099fa91",
            "max": 368,
            "min": 0,
            "orientation": "horizontal",
            "style": "IPY_MODEL_d3d0d47cf83d454fa1575c16139e3ce8",
            "value": 368
          }
        },
        "6f58a52fe1394d0092906ed48e09947e": {
          "model_module": "@jupyter-widgets/controls",
          "model_module_version": "1.5.0",
          "model_name": "DescriptionStyleModel",
          "state": {
            "_model_module": "@jupyter-widgets/controls",
            "_model_module_version": "1.5.0",
            "_model_name": "DescriptionStyleModel",
            "_view_count": null,
            "_view_module": "@jupyter-widgets/base",
            "_view_module_version": "1.2.0",
            "_view_name": "StyleView",
            "description_width": ""
          }
        },
        "76f34a624f114a808b7ade5ace556380": {
          "model_module": "@jupyter-widgets/controls",
          "model_module_version": "1.5.0",
          "model_name": "HTMLModel",
          "state": {
            "_dom_classes": [],
            "_model_module": "@jupyter-widgets/controls",
            "_model_module_version": "1.5.0",
            "_model_name": "HTMLModel",
            "_view_count": null,
            "_view_module": "@jupyter-widgets/controls",
            "_view_module_version": "1.5.0",
            "_view_name": "HTMLView",
            "description": "",
            "description_tooltip": null,
            "layout": "IPY_MODEL_a04752df0d5a405da87636520c800dd7",
            "placeholder": "​",
            "style": "IPY_MODEL_adb5d8b15f1240b5a835904654141864",
            "value": " 67/67 [03:34&lt;00:00,  2.50s/it]"
          }
        },
        "852d943e98eb4988b90af8bd3cea35e2": {
          "model_module": "@jupyter-widgets/base",
          "model_module_version": "1.2.0",
          "model_name": "LayoutModel",
          "state": {
            "_model_module": "@jupyter-widgets/base",
            "_model_module_version": "1.2.0",
            "_model_name": "LayoutModel",
            "_view_count": null,
            "_view_module": "@jupyter-widgets/base",
            "_view_module_version": "1.2.0",
            "_view_name": "LayoutView",
            "align_content": null,
            "align_items": null,
            "align_self": null,
            "border": null,
            "bottom": null,
            "display": null,
            "flex": null,
            "flex_flow": null,
            "grid_area": null,
            "grid_auto_columns": null,
            "grid_auto_flow": null,
            "grid_auto_rows": null,
            "grid_column": null,
            "grid_gap": null,
            "grid_row": null,
            "grid_template_areas": null,
            "grid_template_columns": null,
            "grid_template_rows": null,
            "height": null,
            "justify_content": null,
            "justify_items": null,
            "left": null,
            "margin": null,
            "max_height": null,
            "max_width": null,
            "min_height": null,
            "min_width": null,
            "object_fit": null,
            "object_position": null,
            "order": null,
            "overflow": null,
            "overflow_x": null,
            "overflow_y": null,
            "padding": null,
            "right": null,
            "top": null,
            "visibility": null,
            "width": null
          }
        },
        "8bf2f1b4c80d4ee69b7abdccb5a11ac3": {
          "model_module": "@jupyter-widgets/base",
          "model_module_version": "1.2.0",
          "model_name": "LayoutModel",
          "state": {
            "_model_module": "@jupyter-widgets/base",
            "_model_module_version": "1.2.0",
            "_model_name": "LayoutModel",
            "_view_count": null,
            "_view_module": "@jupyter-widgets/base",
            "_view_module_version": "1.2.0",
            "_view_name": "LayoutView",
            "align_content": null,
            "align_items": null,
            "align_self": null,
            "border": null,
            "bottom": null,
            "display": null,
            "flex": null,
            "flex_flow": null,
            "grid_area": null,
            "grid_auto_columns": null,
            "grid_auto_flow": null,
            "grid_auto_rows": null,
            "grid_column": null,
            "grid_gap": null,
            "grid_row": null,
            "grid_template_areas": null,
            "grid_template_columns": null,
            "grid_template_rows": null,
            "height": null,
            "justify_content": null,
            "justify_items": null,
            "left": null,
            "margin": null,
            "max_height": null,
            "max_width": null,
            "min_height": null,
            "min_width": null,
            "object_fit": null,
            "object_position": null,
            "order": null,
            "overflow": null,
            "overflow_x": null,
            "overflow_y": null,
            "padding": null,
            "right": null,
            "top": null,
            "visibility": null,
            "width": null
          }
        },
        "96f0e76bf3c44d68b695805a97a5fa7d": {
          "model_module": "@jupyter-widgets/base",
          "model_module_version": "1.2.0",
          "model_name": "LayoutModel",
          "state": {
            "_model_module": "@jupyter-widgets/base",
            "_model_module_version": "1.2.0",
            "_model_name": "LayoutModel",
            "_view_count": null,
            "_view_module": "@jupyter-widgets/base",
            "_view_module_version": "1.2.0",
            "_view_name": "LayoutView",
            "align_content": null,
            "align_items": null,
            "align_self": null,
            "border": null,
            "bottom": null,
            "display": null,
            "flex": null,
            "flex_flow": null,
            "grid_area": null,
            "grid_auto_columns": null,
            "grid_auto_flow": null,
            "grid_auto_rows": null,
            "grid_column": null,
            "grid_gap": null,
            "grid_row": null,
            "grid_template_areas": null,
            "grid_template_columns": null,
            "grid_template_rows": null,
            "height": null,
            "justify_content": null,
            "justify_items": null,
            "left": null,
            "margin": null,
            "max_height": null,
            "max_width": null,
            "min_height": null,
            "min_width": null,
            "object_fit": null,
            "object_position": null,
            "order": null,
            "overflow": null,
            "overflow_x": null,
            "overflow_y": null,
            "padding": null,
            "right": null,
            "top": null,
            "visibility": null,
            "width": null
          }
        },
        "99d00ced49fe43b3beb7a29a716f1917": {
          "model_module": "@jupyter-widgets/base",
          "model_module_version": "1.2.0",
          "model_name": "LayoutModel",
          "state": {
            "_model_module": "@jupyter-widgets/base",
            "_model_module_version": "1.2.0",
            "_model_name": "LayoutModel",
            "_view_count": null,
            "_view_module": "@jupyter-widgets/base",
            "_view_module_version": "1.2.0",
            "_view_name": "LayoutView",
            "align_content": null,
            "align_items": null,
            "align_self": null,
            "border": null,
            "bottom": null,
            "display": null,
            "flex": null,
            "flex_flow": null,
            "grid_area": null,
            "grid_auto_columns": null,
            "grid_auto_flow": null,
            "grid_auto_rows": null,
            "grid_column": null,
            "grid_gap": null,
            "grid_row": null,
            "grid_template_areas": null,
            "grid_template_columns": null,
            "grid_template_rows": null,
            "height": null,
            "justify_content": null,
            "justify_items": null,
            "left": null,
            "margin": null,
            "max_height": null,
            "max_width": null,
            "min_height": null,
            "min_width": null,
            "object_fit": null,
            "object_position": null,
            "order": null,
            "overflow": null,
            "overflow_x": null,
            "overflow_y": null,
            "padding": null,
            "right": null,
            "top": null,
            "visibility": null,
            "width": null
          }
        },
        "9effcb939409429db7ae80776feac7dc": {
          "model_module": "@jupyter-widgets/base",
          "model_module_version": "1.2.0",
          "model_name": "LayoutModel",
          "state": {
            "_model_module": "@jupyter-widgets/base",
            "_model_module_version": "1.2.0",
            "_model_name": "LayoutModel",
            "_view_count": null,
            "_view_module": "@jupyter-widgets/base",
            "_view_module_version": "1.2.0",
            "_view_name": "LayoutView",
            "align_content": null,
            "align_items": null,
            "align_self": null,
            "border": null,
            "bottom": null,
            "display": null,
            "flex": null,
            "flex_flow": null,
            "grid_area": null,
            "grid_auto_columns": null,
            "grid_auto_flow": null,
            "grid_auto_rows": null,
            "grid_column": null,
            "grid_gap": null,
            "grid_row": null,
            "grid_template_areas": null,
            "grid_template_columns": null,
            "grid_template_rows": null,
            "height": null,
            "justify_content": null,
            "justify_items": null,
            "left": null,
            "margin": null,
            "max_height": null,
            "max_width": null,
            "min_height": null,
            "min_width": null,
            "object_fit": null,
            "object_position": null,
            "order": null,
            "overflow": null,
            "overflow_x": null,
            "overflow_y": null,
            "padding": null,
            "right": null,
            "top": null,
            "visibility": null,
            "width": null
          }
        },
        "a04752df0d5a405da87636520c800dd7": {
          "model_module": "@jupyter-widgets/base",
          "model_module_version": "1.2.0",
          "model_name": "LayoutModel",
          "state": {
            "_model_module": "@jupyter-widgets/base",
            "_model_module_version": "1.2.0",
            "_model_name": "LayoutModel",
            "_view_count": null,
            "_view_module": "@jupyter-widgets/base",
            "_view_module_version": "1.2.0",
            "_view_name": "LayoutView",
            "align_content": null,
            "align_items": null,
            "align_self": null,
            "border": null,
            "bottom": null,
            "display": null,
            "flex": null,
            "flex_flow": null,
            "grid_area": null,
            "grid_auto_columns": null,
            "grid_auto_flow": null,
            "grid_auto_rows": null,
            "grid_column": null,
            "grid_gap": null,
            "grid_row": null,
            "grid_template_areas": null,
            "grid_template_columns": null,
            "grid_template_rows": null,
            "height": null,
            "justify_content": null,
            "justify_items": null,
            "left": null,
            "margin": null,
            "max_height": null,
            "max_width": null,
            "min_height": null,
            "min_width": null,
            "object_fit": null,
            "object_position": null,
            "order": null,
            "overflow": null,
            "overflow_x": null,
            "overflow_y": null,
            "padding": null,
            "right": null,
            "top": null,
            "visibility": null,
            "width": null
          }
        },
        "a13a1366de9f474290012a5d0a66c0d0": {
          "model_module": "@jupyter-widgets/controls",
          "model_module_version": "1.5.0",
          "model_name": "ProgressStyleModel",
          "state": {
            "_model_module": "@jupyter-widgets/controls",
            "_model_module_version": "1.5.0",
            "_model_name": "ProgressStyleModel",
            "_view_count": null,
            "_view_module": "@jupyter-widgets/base",
            "_view_module_version": "1.2.0",
            "_view_name": "StyleView",
            "bar_color": null,
            "description_width": ""
          }
        },
        "a30c6837fc4b443a9e2835ecdd9cc67c": {
          "model_module": "@jupyter-widgets/controls",
          "model_module_version": "1.5.0",
          "model_name": "ProgressStyleModel",
          "state": {
            "_model_module": "@jupyter-widgets/controls",
            "_model_module_version": "1.5.0",
            "_model_name": "ProgressStyleModel",
            "_view_count": null,
            "_view_module": "@jupyter-widgets/base",
            "_view_module_version": "1.2.0",
            "_view_name": "StyleView",
            "bar_color": null,
            "description_width": ""
          }
        },
        "adb5d8b15f1240b5a835904654141864": {
          "model_module": "@jupyter-widgets/controls",
          "model_module_version": "1.5.0",
          "model_name": "DescriptionStyleModel",
          "state": {
            "_model_module": "@jupyter-widgets/controls",
            "_model_module_version": "1.5.0",
            "_model_name": "DescriptionStyleModel",
            "_view_count": null,
            "_view_module": "@jupyter-widgets/base",
            "_view_module_version": "1.2.0",
            "_view_name": "StyleView",
            "description_width": ""
          }
        },
        "af48c52cdcbb4c36b29a2fe9a259bebc": {
          "model_module": "@jupyter-widgets/controls",
          "model_module_version": "1.5.0",
          "model_name": "ProgressStyleModel",
          "state": {
            "_model_module": "@jupyter-widgets/controls",
            "_model_module_version": "1.5.0",
            "_model_name": "ProgressStyleModel",
            "_view_count": null,
            "_view_module": "@jupyter-widgets/base",
            "_view_module_version": "1.2.0",
            "_view_name": "StyleView",
            "bar_color": null,
            "description_width": ""
          }
        },
        "bcacee3870974009be51280292a3abe3": {
          "model_module": "@jupyter-widgets/controls",
          "model_module_version": "1.5.0",
          "model_name": "DescriptionStyleModel",
          "state": {
            "_model_module": "@jupyter-widgets/controls",
            "_model_module_version": "1.5.0",
            "_model_name": "DescriptionStyleModel",
            "_view_count": null,
            "_view_module": "@jupyter-widgets/base",
            "_view_module_version": "1.2.0",
            "_view_name": "StyleView",
            "description_width": ""
          }
        },
        "bd970a595c8d4d78b7649261a7ea0221": {
          "model_module": "@jupyter-widgets/controls",
          "model_module_version": "1.5.0",
          "model_name": "FloatProgressModel",
          "state": {
            "_dom_classes": [],
            "_model_module": "@jupyter-widgets/controls",
            "_model_module_version": "1.5.0",
            "_model_name": "FloatProgressModel",
            "_view_count": null,
            "_view_module": "@jupyter-widgets/controls",
            "_view_module_version": "1.5.0",
            "_view_name": "ProgressView",
            "bar_style": "success",
            "description": "",
            "description_tooltip": null,
            "layout": "IPY_MODEL_319ad782362d4074a8942107e8bdb0f5",
            "max": 1308,
            "min": 0,
            "orientation": "horizontal",
            "style": "IPY_MODEL_af48c52cdcbb4c36b29a2fe9a259bebc",
            "value": 1308
          }
        },
        "c2439bde7a394445a46ff8e6a2864b93": {
          "model_module": "@jupyter-widgets/controls",
          "model_module_version": "1.5.0",
          "model_name": "HBoxModel",
          "state": {
            "_dom_classes": [],
            "_model_module": "@jupyter-widgets/controls",
            "_model_module_version": "1.5.0",
            "_model_name": "HBoxModel",
            "_view_count": null,
            "_view_module": "@jupyter-widgets/controls",
            "_view_module_version": "1.5.0",
            "_view_name": "HBoxView",
            "box_style": "",
            "children": [
              "IPY_MODEL_28631c32fa96461ea17cab37d9fcb5bc",
              "IPY_MODEL_6988274d21fc4c97b9170fa2f16e236c",
              "IPY_MODEL_27776844885a4f58807add1093a0e923"
            ],
            "layout": "IPY_MODEL_558ed9bcca3c47fa82ba6c2157582340"
          }
        },
        "c62fa1e9c74e4e49a923a268ef7bcec3": {
          "model_module": "@jupyter-widgets/controls",
          "model_module_version": "1.5.0",
          "model_name": "DescriptionStyleModel",
          "state": {
            "_model_module": "@jupyter-widgets/controls",
            "_model_module_version": "1.5.0",
            "_model_name": "DescriptionStyleModel",
            "_view_count": null,
            "_view_module": "@jupyter-widgets/base",
            "_view_module_version": "1.2.0",
            "_view_name": "StyleView",
            "description_width": ""
          }
        },
        "c7b30b66eaca459a8ea410bfd42899bd": {
          "model_module": "@jupyter-widgets/controls",
          "model_module_version": "1.5.0",
          "model_name": "FloatProgressModel",
          "state": {
            "_dom_classes": [],
            "_model_module": "@jupyter-widgets/controls",
            "_model_module_version": "1.5.0",
            "_model_name": "FloatProgressModel",
            "_view_count": null,
            "_view_module": "@jupyter-widgets/controls",
            "_view_module_version": "1.5.0",
            "_view_name": "ProgressView",
            "bar_style": "success",
            "description": "",
            "description_tooltip": null,
            "layout": "IPY_MODEL_2b0e432803744ea8b2464c64fe2eb20e",
            "max": 67,
            "min": 0,
            "orientation": "horizontal",
            "style": "IPY_MODEL_a30c6837fc4b443a9e2835ecdd9cc67c",
            "value": 67
          }
        },
        "d3d0d47cf83d454fa1575c16139e3ce8": {
          "model_module": "@jupyter-widgets/controls",
          "model_module_version": "1.5.0",
          "model_name": "ProgressStyleModel",
          "state": {
            "_model_module": "@jupyter-widgets/controls",
            "_model_module_version": "1.5.0",
            "_model_name": "ProgressStyleModel",
            "_view_count": null,
            "_view_module": "@jupyter-widgets/base",
            "_view_module_version": "1.2.0",
            "_view_name": "StyleView",
            "bar_color": null,
            "description_width": ""
          }
        },
        "d6d23c020d054ad182fdfc6e96fbe74f": {
          "model_module": "@jupyter-widgets/controls",
          "model_module_version": "1.5.0",
          "model_name": "FloatProgressModel",
          "state": {
            "_dom_classes": [],
            "_model_module": "@jupyter-widgets/controls",
            "_model_module_version": "1.5.0",
            "_model_name": "FloatProgressModel",
            "_view_count": null,
            "_view_module": "@jupyter-widgets/controls",
            "_view_module_version": "1.5.0",
            "_view_name": "ProgressView",
            "bar_style": "success",
            "description": "",
            "description_tooltip": null,
            "layout": "IPY_MODEL_3ae251a02b3840f28d8dc72f9f1c038e",
            "max": 41,
            "min": 0,
            "orientation": "horizontal",
            "style": "IPY_MODEL_a13a1366de9f474290012a5d0a66c0d0",
            "value": 41
          }
        },
        "e2cd7e56ed694d6f94bf2db694606eed": {
          "model_module": "@jupyter-widgets/controls",
          "model_module_version": "1.5.0",
          "model_name": "HTMLModel",
          "state": {
            "_dom_classes": [],
            "_model_module": "@jupyter-widgets/controls",
            "_model_module_version": "1.5.0",
            "_model_name": "HTMLModel",
            "_view_count": null,
            "_view_module": "@jupyter-widgets/controls",
            "_view_module_version": "1.5.0",
            "_view_name": "HTMLView",
            "description": "",
            "description_tooltip": null,
            "layout": "IPY_MODEL_57944a33a45244ecb53393a795a6acd0",
            "placeholder": "​",
            "style": "IPY_MODEL_324ecf32133a4fe29abb2b27b882b3e5",
            "value": "Extracting query embeddings: 100%"
          }
        },
        "fa4cc5bdc1074eca81556da79cb581f2": {
          "model_module": "@jupyter-widgets/controls",
          "model_module_version": "1.5.0",
          "model_name": "HTMLModel",
          "state": {
            "_dom_classes": [],
            "_model_module": "@jupyter-widgets/controls",
            "_model_module_version": "1.5.0",
            "_model_name": "HTMLModel",
            "_view_count": null,
            "_view_module": "@jupyter-widgets/controls",
            "_view_module_version": "1.5.0",
            "_view_name": "HTMLView",
            "description": "",
            "description_tooltip": null,
            "layout": "IPY_MODEL_61dfc8eef1614d71b20f046478481583",
            "placeholder": "​",
            "style": "IPY_MODEL_bcacee3870974009be51280292a3abe3",
            "value": "Extracting query embeddings: 100%"
          }
        }
      }
    }
  },
  "nbformat": 4,
  "nbformat_minor": 0
}
